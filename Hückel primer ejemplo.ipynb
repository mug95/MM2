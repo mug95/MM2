{
 "cells": [
  {
   "cell_type": "code",
   "execution_count": 9,
   "metadata": {
    "collapsed": true
   },
   "outputs": [],
   "source": [
    "from sympy import *\n",
    "from sympy import init_printing; init_printing(use_latex = 'mathjax')\n",
    "import numpy"
   ]
  },
  {
   "cell_type": "code",
   "execution_count": 10,
   "metadata": {
    "collapsed": false
   },
   "outputs": [
    {
     "data": {
      "text/latex": [
       "$$\\left ( x, \\quad l, \\quad m, \\quad \\hbar, \\quad W\\right )$$"
      ],
      "text/plain": [
       "(x, l, m, h̅, W)"
      ]
     },
     "execution_count": 10,
     "metadata": {},
     "output_type": "execute_result"
    }
   ],
   "source": [
    "var( 'x l m hbar W ')"
   ]
  },
  {
   "cell_type": "code",
   "execution_count": 11,
   "metadata": {
    "collapsed": false
   },
   "outputs": [
    {
     "data": {
      "text/latex": [
       "$$4$$"
      ],
      "text/plain": [
       "4"
      ]
     },
     "execution_count": 11,
     "metadata": {},
     "output_type": "execute_result"
    }
   ],
   "source": [
    "f = [x*(l - x),x*(l - x),x*(l - x)*(0.5*l - x),x**2*(l - x)**2*(0.5*l - x)]\n",
    "a = len(f)\n",
    "a"
   ]
  },
  {
   "cell_type": "code",
   "execution_count": 12,
   "metadata": {
    "collapsed": false
   },
   "outputs": [],
   "source": [
    "H = eye(a)\n",
    "\n",
    "S = eye(a)\n",
    "W= eye(a)"
   ]
  },
  {
   "cell_type": "code",
   "execution_count": null,
   "metadata": {
    "collapsed": false
   },
   "outputs": [],
   "source": []
  },
  {
   "cell_type": "code",
   "execution_count": null,
   "metadata": {
    "collapsed": false
   },
   "outputs": [],
   "source": []
  },
  {
   "cell_type": "code",
   "execution_count": 13,
   "metadata": {
    "collapsed": true
   },
   "outputs": [],
   "source": [
    "def H_ij(f_1, f_2):\n",
    "    return integrate((-hbar**2/(2*m))*f_1*diff(f_2, x, 2), (x, 0, l))"
   ]
  },
  {
   "cell_type": "code",
   "execution_count": 14,
   "metadata": {
    "collapsed": false
   },
   "outputs": [],
   "source": [
    "def S_ij(f_1, f_2):\n",
    "    return integrate(f_1*f_2, (x, 0, l))"
   ]
  },
  {
   "cell_type": "code",
   "execution_count": 15,
   "metadata": {
    "collapsed": false
   },
   "outputs": [],
   "source": [
    "for n in range (0, a):\n",
    "    for k in range (0, a):\n",
    "        H[n, k] = H_ij(f[n], f[k])\n",
    "        S[n, k] = S_ij(f[n], f[k])\n",
    "        "
   ]
  },
  {
   "cell_type": "code",
   "execution_count": 16,
   "metadata": {
    "collapsed": false
   },
   "outputs": [
    {
     "data": {
      "text/latex": [
       "$$\\left[\\begin{matrix}\\frac{\\hbar^{2} l^{3}}{6 m} & \\frac{\\hbar^{2} l^{3}}{6 m} & 0 & 0\\\\\\frac{\\hbar^{2} l^{3}}{6 m} & \\frac{\\hbar^{2} l^{3}}{6 m} & 0 & 0\\\\0 & 0 & \\frac{0.0249999999999999 \\hbar^{2}}{m} l^{5} & \\frac{0.00357142857142811 \\hbar^{2}}{m} l^{7}\\\\0 & 0 & \\frac{0.003571428571429 \\hbar^{2}}{m} l^{7} & \\frac{0.000793650793650499 \\hbar^{2}}{m} l^{9}\\end{matrix}\\right]$$"
      ],
      "text/plain": [
       "⎡  2  3    2  3                                                        ⎤\n",
       "⎢h̅ ⋅l   h̅ ⋅l                                                         ⎥\n",
       "⎢──────  ──────              0                           0             ⎥\n",
       "⎢ 6⋅m     6⋅m                                                          ⎥\n",
       "⎢                                                                      ⎥\n",
       "⎢  2  3    2  3                                                        ⎥\n",
       "⎢h̅ ⋅l   h̅ ⋅l                                                         ⎥\n",
       "⎢──────  ──────              0                           0             ⎥\n",
       "⎢ 6⋅m     6⋅m                                                          ⎥\n",
       "⎢                                                                      ⎥\n",
       "⎢                                     2  5                        2  7 ⎥\n",
       "⎢                0.0249999999999999⋅h̅ ⋅l   0.00357142857142811⋅h̅ ⋅l  ⎥\n",
       "⎢  0       0     ─────────────────────────  ────────────────────────── ⎥\n",
       "⎢                            m                          m              ⎥\n",
       "⎢                                                                      ⎥\n",
       "⎢                                    2  7                          2  9⎥\n",
       "⎢                0.003571428571429⋅h̅ ⋅l    0.000793650793650499⋅h̅ ⋅l ⎥\n",
       "⎢  0       0     ────────────────────────   ───────────────────────────⎥\n",
       "⎣                           m                            m             ⎦"
      ]
     },
     "execution_count": 16,
     "metadata": {},
     "output_type": "execute_result"
    }
   ],
   "source": [
    "H"
   ]
  },
  {
   "cell_type": "code",
   "execution_count": 23,
   "metadata": {
    "collapsed": false
   },
   "outputs": [
    {
     "data": {
      "text/latex": [
       "$$\\left[\\begin{matrix}\\frac{l^{5}}{30} & \\frac{l^{5}}{30} & 0 & 0\\\\\\frac{l^{5}}{30} & \\frac{l^{5}}{30} & 0 & 0\\\\0 & 0 & 0.0011904761904763 l^{7} & 0.000198412698412753 l^{9}\\\\0 & 0 & 0.000198412698412753 l^{9} & 3.60750360750006 \\cdot 10^{-5} l^{11}\\end{matrix}\\right]$$"
      ],
      "text/plain": [
       "⎡ 5   5                                                  ⎤\n",
       "⎢l   l                                                   ⎥\n",
       "⎢──  ──             0                        0           ⎥\n",
       "⎢30  30                                                  ⎥\n",
       "⎢                                                        ⎥\n",
       "⎢ 5   5                                                  ⎥\n",
       "⎢l   l                                                   ⎥\n",
       "⎢──  ──             0                        0           ⎥\n",
       "⎢30  30                                                  ⎥\n",
       "⎢                                                        ⎥\n",
       "⎢                             7                         9⎥\n",
       "⎢0   0    0.0011904761904763⋅l    0.000198412698412753⋅l ⎥\n",
       "⎢                                                        ⎥\n",
       "⎢                              9                       11⎥\n",
       "⎣0   0   0.000198412698412753⋅l   3.60750360750006e-5⋅l  ⎦"
      ]
     },
     "execution_count": 23,
     "metadata": {},
     "output_type": "execute_result"
    }
   ],
   "source": [
    "W*S"
   ]
  },
  {
   "cell_type": "code",
   "execution_count": 18,
   "metadata": {
    "collapsed": false
   },
   "outputs": [
    {
     "data": {
      "text/latex": [
       "$$\\frac{0.000793650793650499 \\hbar^{2}}{m} l^{9}$$"
      ],
      "text/plain": [
       "                       2  9\n",
       "0.000793650793650499⋅h̅ ⋅l \n",
       "───────────────────────────\n",
       "             m             "
      ]
     },
     "execution_count": 18,
     "metadata": {},
     "output_type": "execute_result"
    }
   ],
   "source": [
    "H_ij(f[3],f[3])"
   ]
  },
  {
   "cell_type": "code",
   "execution_count": 19,
   "metadata": {
    "collapsed": false
   },
   "outputs": [
    {
     "data": {
      "text/latex": [
       "$$\\frac{0.000793650793650499 \\hbar^{2}}{m} l^{9}$$"
      ],
      "text/plain": [
       "                       2  9\n",
       "0.000793650793650499⋅h̅ ⋅l \n",
       "───────────────────────────\n",
       "             m             "
      ]
     },
     "execution_count": 19,
     "metadata": {},
     "output_type": "execute_result"
    }
   ],
   "source": [
    "H[3,3]"
   ]
  },
  {
   "cell_type": "code",
   "execution_count": 21,
   "metadata": {
    "collapsed": false
   },
   "outputs": [
    {
     "data": {
      "text/latex": [
       "$$\\left[\\begin{matrix}\\frac{\\hbar^{2} l^{3}}{6 m} - \\frac{l^{5}}{30} & \\frac{\\hbar^{2} l^{3}}{6 m} - \\frac{l^{5}}{30} & 0 & 0\\\\\\frac{\\hbar^{2} l^{3}}{6 m} - \\frac{l^{5}}{30} & \\frac{\\hbar^{2} l^{3}}{6 m} - \\frac{l^{5}}{30} & 0 & 0\\\\0 & 0 & \\frac{0.0249999999999999 \\hbar^{2}}{m} l^{5} - 0.0011904761904763 l^{7} & \\frac{0.00357142857142811 \\hbar^{2}}{m} l^{7} - 0.000198412698412753 l^{9}\\\\0 & 0 & \\frac{0.003571428571429 \\hbar^{2}}{m} l^{7} - 0.000198412698412753 l^{9} & \\frac{0.000793650793650499 \\hbar^{2}}{m} l^{9} - 3.60750360750006 \\cdot 10^{-5} l^{11}\\end{matrix}\\right]$$"
      ],
      "text/plain": [
       "⎡  2  3    5    2  3    5                                                     \n",
       "⎢h̅ ⋅l    l   h̅ ⋅l    l                                                      \n",
       "⎢────── - ──  ────── - ──                          0                          \n",
       "⎢ 6⋅m     30   6⋅m     30                                                     \n",
       "⎢                                                                             \n",
       "⎢  2  3    5    2  3    5                                                     \n",
       "⎢h̅ ⋅l    l   h̅ ⋅l    l                                                      \n",
       "⎢────── - ──  ────── - ──                          0                          \n",
       "⎢ 6⋅m     30   6⋅m     30                                                     \n",
       "⎢                                                                             \n",
       "⎢                                               2  5                          \n",
       "⎢                          0.0249999999999999⋅h̅ ⋅l                        7  \n",
       "⎢     0            0       ───────────────────────── - 0.0011904761904763⋅l   \n",
       "⎢                                      m                                      \n",
       "⎢                                                                             \n",
       "⎢                                              2  7                           \n",
       "⎢                          0.003571428571429⋅h̅ ⋅l                          9 \n",
       "⎢     0            0       ──────────────────────── - 0.000198412698412753⋅l  \n",
       "⎣                                     m                                       \n",
       "\n",
       "                                                      ⎤\n",
       "                                                      ⎥\n",
       "                           0                          ⎥\n",
       "                                                      ⎥\n",
       "                                                      ⎥\n",
       "                                                      ⎥\n",
       "                                                      ⎥\n",
       "                           0                          ⎥\n",
       "                                                      ⎥\n",
       "                                                      ⎥\n",
       "                       2  7                           ⎥\n",
       " 0.00357142857142811⋅h̅ ⋅l                          9 ⎥\n",
       " ────────────────────────── - 0.000198412698412753⋅l  ⎥\n",
       "             m                                        ⎥\n",
       "                                                      ⎥\n",
       "                        2  9                          ⎥\n",
       " 0.000793650793650499⋅h̅ ⋅l                         11⎥\n",
       " ─────────────────────────── - 3.60750360750006e-5⋅l  ⎥\n",
       "              m                                       ⎦"
      ]
     },
     "execution_count": 21,
     "metadata": {},
     "output_type": "execute_result"
    }
   ],
   "source": [
    "H-W*S"
   ]
  },
  {
   "cell_type": "code",
   "execution_count": null,
   "metadata": {
    "collapsed": true
   },
   "outputs": [],
   "source": []
  }
 ],
 "metadata": {
  "kernelspec": {
   "display_name": "Python 3",
   "language": "python",
   "name": "python3"
  },
  "language_info": {
   "codemirror_mode": {
    "name": "ipython",
    "version": 3
   },
   "file_extension": ".py",
   "mimetype": "text/x-python",
   "name": "python",
   "nbconvert_exporter": "python",
   "pygments_lexer": "ipython3",
   "version": "3.6.0"
  }
 },
 "nbformat": 4,
 "nbformat_minor": 2
}
