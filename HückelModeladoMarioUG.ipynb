{
 "cells": [
  {
   "cell_type": "code",
   "execution_count": 2,
   "metadata": {
    "collapsed": true
   },
   "outputs": [],
   "source": [
    "### Usar este ejemplo como base, para resolver el problema completo."
   ]
  },
  {
   "cell_type": "code",
   "execution_count": 3,
   "metadata": {
    "collapsed": false
   },
   "outputs": [],
   "source": [
    "from sympy import *\n",
    "from sympy import init_printing; init_printing(use_latex = 'mathjax')\n",
    "import numpy as np"
   ]
  },
  {
   "cell_type": "code",
   "execution_count": 4,
   "metadata": {
    "collapsed": false
   },
   "outputs": [],
   "source": [
    "x, m, hbar, l, W, c=symbols('x m hbar l W c')\n"
   ]
  },
  {
   "cell_type": "code",
   "execution_count": 5,
   "metadata": {
    "collapsed": false
   },
   "outputs": [],
   "source": [
    "f_1 = x*(l - x)\n",
    "f_2 = (x**2)*(l - x)**2\n",
    "f_3 = x*(l - x)*((l/2)-x)\n",
    "f_4 = (x**2)*((l - x)**2)*((l/2)-x)"
   ]
  },
  {
   "cell_type": "code",
   "execution_count": 6,
   "metadata": {
    "collapsed": false
   },
   "outputs": [
    {
     "data": {
      "text/latex": [
       "$$x^{2} \\left(\\frac{l}{2} - x\\right) \\left(l - x\\right)^{2}$$"
      ],
      "text/plain": [
       " 2 ⎛l    ⎞        2\n",
       "x ⋅⎜─ - x⎟⋅(l - x) \n",
       "   ⎝2    ⎠         "
      ]
     },
     "execution_count": 6,
     "metadata": {},
     "output_type": "execute_result"
    }
   ],
   "source": [
    "f_1\n",
    "f_2\n",
    "f_3\n",
    "f_4\n"
   ]
  },
  {
   "cell_type": "code",
   "execution_count": 7,
   "metadata": {
    "collapsed": false
   },
   "outputs": [],
   "source": [
    "fvar = [f_1, f_2, f_3, f_4]\n"
   ]
  },
  {
   "cell_type": "code",
   "execution_count": 8,
   "metadata": {
    "collapsed": false
   },
   "outputs": [],
   "source": [
    "n=4\n",
    "c=[]\n",
    "for i in range (n):\n",
    "    c.append(Symbol('c_%d' %(i+1)))"
   ]
  },
  {
   "cell_type": "code",
   "execution_count": 9,
   "metadata": {
    "collapsed": false
   },
   "outputs": [
    {
     "data": {
      "text/latex": [
       "$$\\left[\\begin{matrix}c_{1}\\\\c_{2}\\\\c_{3}\\\\c_{4}\\end{matrix}\\right]$$"
      ],
      "text/plain": [
       "⎡c₁⎤\n",
       "⎢  ⎥\n",
       "⎢c₂⎥\n",
       "⎢  ⎥\n",
       "⎢c₃⎥\n",
       "⎢  ⎥\n",
       "⎣c₄⎦"
      ]
     },
     "execution_count": 9,
     "metadata": {},
     "output_type": "execute_result"
    }
   ],
   "source": [
    "c = Matrix([var('c1')])\n",
    "c = c.row_insert(1, Matrix([var('c2')]))\n",
    "c = c.row_insert(2, Matrix([var('c3')]))\n",
    "c = c.row_insert(3, Matrix([var('c4')]))\n",
    "c"
   ]
  },
  {
   "cell_type": "code",
   "execution_count": 10,
   "metadata": {
    "collapsed": false
   },
   "outputs": [
    {
     "data": {
      "text/latex": [
       "$$\\left [ \\frac{2 \\hbar^{2}}{l^{2} m} \\left(- \\sqrt{133} + 14\\right), \\quad \\frac{2 \\hbar^{2}}{l^{2} m} \\left(\\sqrt{133} + 14\\right), \\quad \\frac{2 \\hbar^{2}}{l^{2} m} \\left(- 9 \\sqrt{5} + 30\\right), \\quad \\frac{2 \\hbar^{2}}{l^{2} m} \\left(9 \\sqrt{5} + 30\\right)\\right ]$$"
      ],
      "text/plain": [
       "⎡    2                   2                  2                   2            ⎤\n",
       "⎢2⋅h̅ ⋅(-√133 + 14)  2⋅h̅ ⋅(√133 + 14)  2⋅h̅ ⋅(-9⋅√5 + 30)  2⋅h̅ ⋅(9⋅√5 + 30)⎥\n",
       "⎢──────────────────, ─────────────────, ──────────────────, ─────────────────⎥\n",
       "⎢        2                   2                  2                   2        ⎥\n",
       "⎣       l ⋅m                l ⋅m               l ⋅m                l ⋅m      ⎦"
      ]
     },
     "execution_count": 10,
     "metadata": {},
     "output_type": "execute_result"
    }
   ],
   "source": [
    "fvar = [f_1, f_2, f_3, f_4]\n",
    "n=4\n",
    "H= zeros(n, n)\n",
    "S= zeros(n, n)\n",
    "for i in range(n):\n",
    "    for k in range(n):\n",
    "        integrando = (-hbar**2/(2*m))*fvar[i]*diff(fvar[k], x, 2)\n",
    "        H[i,k] = integrate(integrando, (x, 0, l))\n",
    "        S[i,k] = integrate(fvar[i]*fvar[k], (x, 0, l))   \n",
    "A= H - S*W \n",
    "B=A.det()\n",
    "D=solve(B,W)\n",
    "D"
   ]
  },
  {
   "cell_type": "code",
   "execution_count": 11,
   "metadata": {
    "collapsed": false
   },
   "outputs": [
    {
     "data": {
      "text/latex": [
       "$$\\left[\\begin{matrix}- \\frac{W l^{5}}{30} + \\frac{\\hbar^{2} l^{3}}{6 m} & - \\frac{W l^{7}}{140} + \\frac{\\hbar^{2} l^{5}}{30 m} & 0 & 0\\\\- \\frac{W l^{7}}{140} + \\frac{\\hbar^{2} l^{5}}{30 m} & - \\frac{W l^{9}}{630} + \\frac{\\hbar^{2} l^{7}}{105 m} & 0 & 0\\\\0 & 0 & - \\frac{W l^{7}}{840} + \\frac{\\hbar^{2} l^{5}}{40 m} & - \\frac{W l^{9}}{5040} + \\frac{\\hbar^{2} l^{7}}{280 m}\\\\0 & 0 & - \\frac{W l^{9}}{5040} + \\frac{\\hbar^{2} l^{7}}{280 m} & - \\frac{W l^{11}}{27720} + \\frac{\\hbar^{2} l^{9}}{1260 m}\\end{matrix}\\right]$$"
      ],
      "text/plain": [
       "⎡     5     2  3       7     2  5                                   ⎤\n",
       "⎢  W⋅l    h̅ ⋅l     W⋅l    h̅ ⋅l                                    ⎥\n",
       "⎢- ──── + ──────  - ──── + ──────         0                0        ⎥\n",
       "⎢   30     6⋅m      140     30⋅m                                    ⎥\n",
       "⎢                                                                   ⎥\n",
       "⎢     7     2  5       9     2  7                                   ⎥\n",
       "⎢  W⋅l    h̅ ⋅l     W⋅l    h̅ ⋅l                                    ⎥\n",
       "⎢- ──── + ──────  - ──── + ──────         0                0        ⎥\n",
       "⎢  140     30⋅m     630    105⋅m                                    ⎥\n",
       "⎢                                                                   ⎥\n",
       "⎢                                       7     2  5       9     2  7 ⎥\n",
       "⎢                                    W⋅l    h̅ ⋅l     W⋅l    h̅ ⋅l  ⎥\n",
       "⎢       0                0         - ──── + ──────  - ──── + ────── ⎥\n",
       "⎢                                    840     40⋅m     5040   280⋅m  ⎥\n",
       "⎢                                                                   ⎥\n",
       "⎢                                       9     2  7       11     2  9⎥\n",
       "⎢                                    W⋅l    h̅ ⋅l     W⋅l     h̅ ⋅l ⎥\n",
       "⎢       0                0         - ──── + ──────  - ───── + ──────⎥\n",
       "⎣                                    5040   280⋅m     27720   1260⋅m⎦"
      ]
     },
     "execution_count": 11,
     "metadata": {},
     "output_type": "execute_result"
    }
   ],
   "source": [
    "A\n"
   ]
  },
  {
   "cell_type": "code",
   "execution_count": 12,
   "metadata": {
    "collapsed": false
   },
   "outputs": [
    {
     "data": {
      "text/latex": [
       "$$\\frac{2 \\hbar^{2}}{l^{2} m} \\left(\\sqrt{133} + 14\\right)$$"
      ],
      "text/plain": [
       "    2            \n",
       "2⋅h̅ ⋅(√133 + 14)\n",
       "─────────────────\n",
       "        2        \n",
       "       l ⋅m      "
      ]
     },
     "execution_count": 12,
     "metadata": {},
     "output_type": "execute_result"
    }
   ],
   "source": [
    "D[1]"
   ]
  },
  {
   "cell_type": "code",
   "execution_count": 13,
   "metadata": {
    "collapsed": false
   },
   "outputs": [
    {
     "data": {
      "text/latex": [
       "$$\\frac{W^{4} l^{32}}{147867793920000} - \\frac{W^{3} \\hbar^{2} l^{30}}{840157920000 m} + \\frac{373 W^{2} \\hbar^{4} l^{28}}{6161158080000 m^{2}} - \\frac{W \\hbar^{6} l^{26}}{1047816000 m^{3}} + \\frac{\\hbar^{8} l^{24}}{296352000 m^{4}}$$"
      ],
      "text/plain": [
       "      4  32          3   2  30           2   4  28          6  26         8  2\n",
       "     W ⋅l           W ⋅h̅ ⋅l        373⋅W ⋅h̅ ⋅l        W⋅h̅ ⋅l         h̅ ⋅l \n",
       "─────────────── - ────────────── + ──────────────── - ───────────── + ────────\n",
       "147867793920000   840157920000⋅m                  2               3           \n",
       "                                   6161158080000⋅m    1047816000⋅m    29635200\n",
       "\n",
       "4   \n",
       "    \n",
       "────\n",
       "   4\n",
       "0⋅m "
      ]
     },
     "execution_count": 13,
     "metadata": {},
     "output_type": "execute_result"
    }
   ],
   "source": [
    "B"
   ]
  },
  {
   "cell_type": "code",
   "execution_count": 14,
   "metadata": {
    "collapsed": false
   },
   "outputs": [
    {
     "data": {
      "text/latex": [
       "$$\\left [ \\frac{2 \\hbar^{2}}{l^{2} m} \\left(- \\sqrt{133} + 14\\right), \\quad \\frac{2 \\hbar^{2}}{l^{2} m} \\left(\\sqrt{133} + 14\\right), \\quad \\frac{2 \\hbar^{2}}{l^{2} m} \\left(- 9 \\sqrt{5} + 30\\right), \\quad \\frac{2 \\hbar^{2}}{l^{2} m} \\left(9 \\sqrt{5} + 30\\right)\\right ]$$"
      ],
      "text/plain": [
       "⎡    2                   2                  2                   2            ⎤\n",
       "⎢2⋅h̅ ⋅(-√133 + 14)  2⋅h̅ ⋅(√133 + 14)  2⋅h̅ ⋅(-9⋅√5 + 30)  2⋅h̅ ⋅(9⋅√5 + 30)⎥\n",
       "⎢──────────────────, ─────────────────, ──────────────────, ─────────────────⎥\n",
       "⎢        2                   2                  2                   2        ⎥\n",
       "⎣       l ⋅m                l ⋅m               l ⋅m                l ⋅m      ⎦"
      ]
     },
     "execution_count": 14,
     "metadata": {},
     "output_type": "execute_result"
    }
   ],
   "source": [
    "D"
   ]
  },
  {
   "cell_type": "code",
   "execution_count": 15,
   "metadata": {
    "collapsed": false
   },
   "outputs": [
    {
     "data": {
      "text/latex": [
       "$$\\left[\\begin{matrix}\\frac{2 \\hbar^{2}}{l^{2} m} \\left(- \\sqrt{133} + 14\\right) & \\frac{2 \\hbar^{2}}{l^{2} m} \\left(\\sqrt{133} + 14\\right) & \\frac{2 \\hbar^{2}}{l^{2} m} \\left(- 9 \\sqrt{5} + 30\\right) & \\frac{2 \\hbar^{2}}{l^{2} m} \\left(9 \\sqrt{5} + 30\\right)\\end{matrix}\\right]$$"
      ],
      "text/plain": [
       "⎡    2                   2                  2                   2            ⎤\n",
       "⎢2⋅h̅ ⋅(-√133 + 14)  2⋅h̅ ⋅(√133 + 14)  2⋅h̅ ⋅(-9⋅√5 + 30)  2⋅h̅ ⋅(9⋅√5 + 30)⎥\n",
       "⎢──────────────────  ─────────────────  ──────────────────  ─────────────────⎥\n",
       "⎢        2                   2                  2                   2        ⎥\n",
       "⎣       l ⋅m                l ⋅m               l ⋅m                l ⋅m      ⎦"
      ]
     },
     "execution_count": 15,
     "metadata": {},
     "output_type": "execute_result"
    }
   ],
   "source": [
    "D=Matrix([D])\n",
    "D"
   ]
  },
  {
   "cell_type": "code",
   "execution_count": 16,
   "metadata": {
    "collapsed": false
   },
   "outputs": [
    {
     "data": {
      "text/latex": [
       "$$\\left[\\begin{matrix}- 2 \\sqrt{133} + 28 & 2 \\sqrt{133} + 28 & - 18 \\sqrt{5} + 60 & 18 \\sqrt{5} + 60\\end{matrix}\\right]$$"
      ],
      "text/plain": [
       "[-2⋅√133 + 28  2⋅√133 + 28  -18⋅√5 + 60  18⋅√5 + 60]"
      ]
     },
     "execution_count": 16,
     "metadata": {},
     "output_type": "execute_result"
    }
   ],
   "source": [
    "D= D*((l**2*m)/(hbar**2))\n",
    "D"
   ]
  },
  {
   "cell_type": "code",
   "execution_count": 17,
   "metadata": {
    "collapsed": false
   },
   "outputs": [
    {
     "data": {
      "text/latex": [
       "$$\\left[\\begin{matrix}- 2 \\sqrt{133} + 28 & - 18 \\sqrt{5} + 60 & 2 \\sqrt{133} + 28 & 18 \\sqrt{5} + 60\\end{matrix}\\right]$$"
      ],
      "text/plain": [
       "[-2⋅√133 + 28  -18⋅√5 + 60  2⋅√133 + 28  18⋅√5 + 60]"
      ]
     },
     "execution_count": 17,
     "metadata": {},
     "output_type": "execute_result"
    }
   ],
   "source": [
    "#Deseamos acomodar la lista de las energías, para este propósito usamos sorted\n",
    "D= Matrix([sorted(D)])\n",
    "D"
   ]
  },
  {
   "cell_type": "code",
   "execution_count": 18,
   "metadata": {
    "collapsed": false
   },
   "outputs": [
    {
     "data": {
      "text/latex": [
       "$$\\left[\\begin{matrix}\\frac{\\hbar^{2}}{l^{2} m} \\left(- 2 \\sqrt{133} + 28\\right) & \\frac{\\hbar^{2}}{l^{2} m} \\left(- 18 \\sqrt{5} + 60\\right) & \\frac{\\hbar^{2}}{l^{2} m} \\left(2 \\sqrt{133} + 28\\right) & \\frac{\\hbar^{2}}{l^{2} m} \\left(18 \\sqrt{5} + 60\\right)\\end{matrix}\\right]$$"
      ],
      "text/plain": [
       "⎡  2                   2                  2                  2             ⎤\n",
       "⎢h̅ ⋅(-2⋅√133 + 28)  h̅ ⋅(-18⋅√5 + 60)  h̅ ⋅(2⋅√133 + 28)  h̅ ⋅(18⋅√5 + 60)⎥\n",
       "⎢──────────────────  ─────────────────  ─────────────────  ────────────────⎥\n",
       "⎢        2                   2                  2                 2        ⎥\n",
       "⎣       l ⋅m                l ⋅m               l ⋅m              l ⋅m      ⎦"
      ]
     },
     "execution_count": 18,
     "metadata": {},
     "output_type": "execute_result"
    }
   ],
   "source": [
    "#Recuperamos las unidades\n",
    "D= D*(hbar**2)/(l**2*m)\n",
    "D"
   ]
  },
  {
   "cell_type": "code",
   "execution_count": 19,
   "metadata": {
    "collapsed": false
   },
   "outputs": [
    {
     "data": {
      "text/latex": [
       "$$\\left[\\begin{matrix}- \\frac{\\hbar^{2} l^{3}}{30 m} \\left(- 2 \\sqrt{133} + 28\\right) + \\frac{\\hbar^{2} l^{3}}{6 m} & - \\frac{\\hbar^{2} l^{5}}{140 m} \\left(- 2 \\sqrt{133} + 28\\right) + \\frac{\\hbar^{2} l^{5}}{30 m} & 0 & 0\\\\- \\frac{\\hbar^{2} l^{5}}{140 m} \\left(- 2 \\sqrt{133} + 28\\right) + \\frac{\\hbar^{2} l^{5}}{30 m} & - \\frac{\\hbar^{2} l^{7}}{630 m} \\left(- 2 \\sqrt{133} + 28\\right) + \\frac{\\hbar^{2} l^{7}}{105 m} & 0 & 0\\\\0 & 0 & - \\frac{\\hbar^{2} l^{5}}{840 m} \\left(- 2 \\sqrt{133} + 28\\right) + \\frac{\\hbar^{2} l^{5}}{40 m} & - \\frac{\\hbar^{2} l^{7}}{5040 m} \\left(- 2 \\sqrt{133} + 28\\right) + \\frac{\\hbar^{2} l^{7}}{280 m}\\\\0 & 0 & - \\frac{\\hbar^{2} l^{7}}{5040 m} \\left(- 2 \\sqrt{133} + 28\\right) + \\frac{\\hbar^{2} l^{7}}{280 m} & - \\frac{\\hbar^{2} l^{9}}{27720 m} \\left(- 2 \\sqrt{133} + 28\\right) + \\frac{\\hbar^{2} l^{9}}{1260 m}\\end{matrix}\\right]$$"
      ],
      "text/plain": [
       "⎡    2  3                    2  3      2  5                    2  5           \n",
       "⎢  h̅ ⋅l ⋅(-2⋅√133 + 28)   h̅ ⋅l     h̅ ⋅l ⋅(-2⋅√133 + 28)   h̅ ⋅l            \n",
       "⎢- ───────────────────── + ──────  - ───────────────────── + ──────           \n",
       "⎢           30⋅m            6⋅m              140⋅m            30⋅m            \n",
       "⎢                                                                             \n",
       "⎢    2  5                    2  5      2  7                    2  7           \n",
       "⎢  h̅ ⋅l ⋅(-2⋅√133 + 28)   h̅ ⋅l     h̅ ⋅l ⋅(-2⋅√133 + 28)   h̅ ⋅l            \n",
       "⎢- ───────────────────── + ──────  - ───────────────────── + ──────           \n",
       "⎢          140⋅m            30⋅m             630⋅m           105⋅m            \n",
       "⎢                                                                             \n",
       "⎢                                                                        2  5 \n",
       "⎢                                                                      h̅ ⋅l ⋅\n",
       "⎢               0                                 0                  - ───────\n",
       "⎢                                                                             \n",
       "⎢                                                                             \n",
       "⎢                                                                        2  7 \n",
       "⎢                                                                      h̅ ⋅l ⋅\n",
       "⎢               0                                 0                  - ───────\n",
       "⎣                                                                             \n",
       "\n",
       "                                                         ⎤\n",
       "                                                         ⎥\n",
       "      0                                 0                ⎥\n",
       "                                                         ⎥\n",
       "                                                         ⎥\n",
       "                                                         ⎥\n",
       "                                                         ⎥\n",
       "      0                                 0                ⎥\n",
       "                                                         ⎥\n",
       "                                                         ⎥\n",
       "                   2  5      2  7                    2  7⎥\n",
       "(-2⋅√133 + 28)   h̅ ⋅l     h̅ ⋅l ⋅(-2⋅√133 + 28)   h̅ ⋅l ⎥\n",
       "────────────── + ──────  - ───────────────────── + ──────⎥\n",
       " 840⋅m            40⋅m             5040⋅m          280⋅m ⎥\n",
       "                                                         ⎥\n",
       "                   2  7      2  9                    2  9⎥\n",
       "(-2⋅√133 + 28)   h̅ ⋅l     h̅ ⋅l ⋅(-2⋅√133 + 28)   h̅ ⋅l ⎥\n",
       "────────────── + ──────  - ───────────────────── + ──────⎥\n",
       " 5040⋅m          280⋅m            27720⋅m          1260⋅m⎦"
      ]
     },
     "execution_count": 19,
     "metadata": {},
     "output_type": "execute_result"
    }
   ],
   "source": [
    "A= H - (S*D[0])\n",
    "A"
   ]
  },
  {
   "cell_type": "code",
   "execution_count": 20,
   "metadata": {
    "collapsed": false
   },
   "outputs": [
    {
     "data": {
      "text/latex": [
       "$$\\left [ \\left[\\begin{matrix}- \\frac{\\hbar^{2} l^{3}}{30 m} \\left(- 2 \\sqrt{133} + 28\\right) + \\frac{\\hbar^{2} l^{3}}{6 m} & - \\frac{\\hbar^{2} l^{5}}{140 m} \\left(- 2 \\sqrt{133} + 28\\right) + \\frac{\\hbar^{2} l^{5}}{30 m} & 0 & 0\\\\- \\frac{\\hbar^{2} l^{5}}{140 m} \\left(- 2 \\sqrt{133} + 28\\right) + \\frac{\\hbar^{2} l^{5}}{30 m} & - \\frac{\\hbar^{2} l^{7}}{630 m} \\left(- 2 \\sqrt{133} + 28\\right) + \\frac{\\hbar^{2} l^{7}}{105 m} & 0 & 0\\\\0 & 0 & - \\frac{\\hbar^{2} l^{5}}{840 m} \\left(- 2 \\sqrt{133} + 28\\right) + \\frac{\\hbar^{2} l^{5}}{40 m} & - \\frac{\\hbar^{2} l^{7}}{5040 m} \\left(- 2 \\sqrt{133} + 28\\right) + \\frac{\\hbar^{2} l^{7}}{280 m}\\\\0 & 0 & - \\frac{\\hbar^{2} l^{7}}{5040 m} \\left(- 2 \\sqrt{133} + 28\\right) + \\frac{\\hbar^{2} l^{7}}{280 m} & - \\frac{\\hbar^{2} l^{9}}{27720 m} \\left(- 2 \\sqrt{133} + 28\\right) + \\frac{\\hbar^{2} l^{9}}{1260 m}\\end{matrix}\\right], \\quad \\left[\\begin{matrix}- \\frac{\\hbar^{2} l^{3}}{30 m} \\left(- 18 \\sqrt{5} + 60\\right) + \\frac{\\hbar^{2} l^{3}}{6 m} & - \\frac{\\hbar^{2} l^{5}}{140 m} \\left(- 18 \\sqrt{5} + 60\\right) + \\frac{\\hbar^{2} l^{5}}{30 m} & 0 & 0\\\\- \\frac{\\hbar^{2} l^{5}}{140 m} \\left(- 18 \\sqrt{5} + 60\\right) + \\frac{\\hbar^{2} l^{5}}{30 m} & - \\frac{\\hbar^{2} l^{7}}{630 m} \\left(- 18 \\sqrt{5} + 60\\right) + \\frac{\\hbar^{2} l^{7}}{105 m} & 0 & 0\\\\0 & 0 & - \\frac{\\hbar^{2} l^{5}}{840 m} \\left(- 18 \\sqrt{5} + 60\\right) + \\frac{\\hbar^{2} l^{5}}{40 m} & - \\frac{\\hbar^{2} l^{7}}{5040 m} \\left(- 18 \\sqrt{5} + 60\\right) + \\frac{\\hbar^{2} l^{7}}{280 m}\\\\0 & 0 & - \\frac{\\hbar^{2} l^{7}}{5040 m} \\left(- 18 \\sqrt{5} + 60\\right) + \\frac{\\hbar^{2} l^{7}}{280 m} & - \\frac{\\hbar^{2} l^{9}}{27720 m} \\left(- 18 \\sqrt{5} + 60\\right) + \\frac{\\hbar^{2} l^{9}}{1260 m}\\end{matrix}\\right], \\quad \\left[\\begin{matrix}- \\frac{\\hbar^{2} l^{3}}{30 m} \\left(2 \\sqrt{133} + 28\\right) + \\frac{\\hbar^{2} l^{3}}{6 m} & - \\frac{\\hbar^{2} l^{5}}{140 m} \\left(2 \\sqrt{133} + 28\\right) + \\frac{\\hbar^{2} l^{5}}{30 m} & 0 & 0\\\\- \\frac{\\hbar^{2} l^{5}}{140 m} \\left(2 \\sqrt{133} + 28\\right) + \\frac{\\hbar^{2} l^{5}}{30 m} & - \\frac{\\hbar^{2} l^{7}}{630 m} \\left(2 \\sqrt{133} + 28\\right) + \\frac{\\hbar^{2} l^{7}}{105 m} & 0 & 0\\\\0 & 0 & - \\frac{\\hbar^{2} l^{5}}{840 m} \\left(2 \\sqrt{133} + 28\\right) + \\frac{\\hbar^{2} l^{5}}{40 m} & - \\frac{\\hbar^{2} l^{7}}{5040 m} \\left(2 \\sqrt{133} + 28\\right) + \\frac{\\hbar^{2} l^{7}}{280 m}\\\\0 & 0 & - \\frac{\\hbar^{2} l^{7}}{5040 m} \\left(2 \\sqrt{133} + 28\\right) + \\frac{\\hbar^{2} l^{7}}{280 m} & - \\frac{\\hbar^{2} l^{9}}{27720 m} \\left(2 \\sqrt{133} + 28\\right) + \\frac{\\hbar^{2} l^{9}}{1260 m}\\end{matrix}\\right], \\quad \\left[\\begin{matrix}- \\frac{\\hbar^{2} l^{3}}{30 m} \\left(18 \\sqrt{5} + 60\\right) + \\frac{\\hbar^{2} l^{3}}{6 m} & - \\frac{\\hbar^{2} l^{5}}{140 m} \\left(18 \\sqrt{5} + 60\\right) + \\frac{\\hbar^{2} l^{5}}{30 m} & 0 & 0\\\\- \\frac{\\hbar^{2} l^{5}}{140 m} \\left(18 \\sqrt{5} + 60\\right) + \\frac{\\hbar^{2} l^{5}}{30 m} & - \\frac{\\hbar^{2} l^{7}}{630 m} \\left(18 \\sqrt{5} + 60\\right) + \\frac{\\hbar^{2} l^{7}}{105 m} & 0 & 0\\\\0 & 0 & - \\frac{\\hbar^{2} l^{5}}{840 m} \\left(18 \\sqrt{5} + 60\\right) + \\frac{\\hbar^{2} l^{5}}{40 m} & - \\frac{\\hbar^{2} l^{7}}{5040 m} \\left(18 \\sqrt{5} + 60\\right) + \\frac{\\hbar^{2} l^{7}}{280 m}\\\\0 & 0 & - \\frac{\\hbar^{2} l^{7}}{5040 m} \\left(18 \\sqrt{5} + 60\\right) + \\frac{\\hbar^{2} l^{7}}{280 m} & - \\frac{\\hbar^{2} l^{9}}{27720 m} \\left(18 \\sqrt{5} + 60\\right) + \\frac{\\hbar^{2} l^{9}}{1260 m}\\end{matrix}\\right]\\right ]$$"
      ],
      "text/plain": [
       "⎡⎡    2  3                    2  3      2  5                    2  5          \n",
       "⎢⎢  h̅ ⋅l ⋅(-2⋅√133 + 28)   h̅ ⋅l     h̅ ⋅l ⋅(-2⋅√133 + 28)   h̅ ⋅l           \n",
       "⎢⎢- ───────────────────── + ──────  - ───────────────────── + ──────          \n",
       "⎢⎢           30⋅m            6⋅m              140⋅m            30⋅m           \n",
       "⎢⎢                                                                            \n",
       "⎢⎢    2  5                    2  5      2  7                    2  7          \n",
       "⎢⎢  h̅ ⋅l ⋅(-2⋅√133 + 28)   h̅ ⋅l     h̅ ⋅l ⋅(-2⋅√133 + 28)   h̅ ⋅l           \n",
       "⎢⎢- ───────────────────── + ──────  - ───────────────────── + ──────          \n",
       "⎢⎢          140⋅m            30⋅m             630⋅m           105⋅m           \n",
       "⎢⎢                                                                            \n",
       "⎢⎢                                                                        2  5\n",
       "⎢⎢                                                                      h̅ ⋅l \n",
       "⎢⎢               0                                 0                  - ──────\n",
       "⎢⎢                                                                            \n",
       "⎢⎢                                                                            \n",
       "⎢⎢                                                                        2  7\n",
       "⎢⎢                                                                      h̅ ⋅l \n",
       "⎢⎢               0                                 0                  - ──────\n",
       "⎣⎣                                                                            \n",
       "\n",
       "                                                          ⎤  ⎡    2  3        \n",
       "                                                          ⎥  ⎢  h̅ ⋅l ⋅(-18⋅√5\n",
       "       0                                 0                ⎥, ⎢- ──────────────\n",
       "                                                          ⎥  ⎢          30⋅m  \n",
       "                                                          ⎥  ⎢                \n",
       "                                                          ⎥  ⎢    2  5        \n",
       "                                                          ⎥  ⎢  h̅ ⋅l ⋅(-18⋅√5\n",
       "       0                                 0                ⎥  ⎢- ──────────────\n",
       "                                                          ⎥  ⎢         140⋅m  \n",
       "                                                          ⎥  ⎢                \n",
       "                    2  5      2  7                    2  7⎥  ⎢                \n",
       "⋅(-2⋅√133 + 28)   h̅ ⋅l     h̅ ⋅l ⋅(-2⋅√133 + 28)   h̅ ⋅l ⎥  ⎢                \n",
       "─────────────── + ──────  - ───────────────────── + ──────⎥  ⎢               0\n",
       "  840⋅m            40⋅m             5040⋅m          280⋅m ⎥  ⎢                \n",
       "                                                          ⎥  ⎢                \n",
       "                    2  7      2  9                    2  9⎥  ⎢                \n",
       "⋅(-2⋅√133 + 28)   h̅ ⋅l     h̅ ⋅l ⋅(-2⋅√133 + 28)   h̅ ⋅l ⎥  ⎢                \n",
       "─────────────── + ──────  - ───────────────────── + ──────⎥  ⎢               0\n",
       "  5040⋅m          280⋅m            27720⋅m          1260⋅m⎦  ⎣                \n",
       "\n",
       "           2  3      2  5                   2  5                              \n",
       " + 60)   h̅ ⋅l     h̅ ⋅l ⋅(-18⋅√5 + 60)   h̅ ⋅l                               \n",
       "────── + ──────  - ──────────────────── + ──────                 0            \n",
       "          6⋅m             140⋅m            30⋅m                               \n",
       "                                                                              \n",
       "           2  5      2  7                   2  7                              \n",
       " + 60)   h̅ ⋅l     h̅ ⋅l ⋅(-18⋅√5 + 60)   h̅ ⋅l                               \n",
       "────── + ──────  - ──────────────────── + ──────                 0            \n",
       "          30⋅m            630⋅m           105⋅m                               \n",
       "                                                                              \n",
       "                                                      2  5                   2\n",
       "                                                    h̅ ⋅l ⋅(-18⋅√5 + 60)   h̅ \n",
       "                                0                 - ──────────────────── + ───\n",
       "                                                           840⋅m            40\n",
       "                                                                              \n",
       "                                                      2  7                   2\n",
       "                                                    h̅ ⋅l ⋅(-18⋅√5 + 60)   h̅ \n",
       "                                0                 - ──────────────────── + ───\n",
       "                                                           5040⋅m          280\n",
       "\n",
       "                                    ⎤  ⎡    2  3                   2  3      2\n",
       "                                    ⎥  ⎢  h̅ ⋅l ⋅(2⋅√133 + 28)   h̅ ⋅l     h̅ \n",
       "                    0               ⎥, ⎢- ──────────────────── + ──────  - ───\n",
       "                                    ⎥  ⎢          30⋅m            6⋅m         \n",
       "                                    ⎥  ⎢                                      \n",
       "                                    ⎥  ⎢    2  5                   2  5      2\n",
       "                                    ⎥  ⎢  h̅ ⋅l ⋅(2⋅√133 + 28)   h̅ ⋅l     h̅ \n",
       "                    0               ⎥  ⎢- ──────────────────── + ──────  - ───\n",
       "                                    ⎥  ⎢         140⋅m            30⋅m        \n",
       "                                    ⎥  ⎢                                      \n",
       "  5      2  7                   2  7⎥  ⎢                                      \n",
       "⋅l     h̅ ⋅l ⋅(-18⋅√5 + 60)   h̅ ⋅l ⎥  ⎢                                      \n",
       "───  - ──────────────────── + ──────⎥  ⎢               0                      \n",
       "⋅m            5040⋅m          280⋅m ⎥  ⎢                                      \n",
       "                                    ⎥  ⎢                                      \n",
       "  7      2  9                   2  9⎥  ⎢                                      \n",
       "⋅l     h̅ ⋅l ⋅(-18⋅√5 + 60)   h̅ ⋅l ⎥  ⎢                                      \n",
       "───  - ──────────────────── + ──────⎥  ⎢               0                      \n",
       "⋅m           27720⋅m          1260⋅m⎦  ⎣                                      \n",
       "\n",
       "  5                   2  5                                                    \n",
       "⋅l ⋅(2⋅√133 + 28)   h̅ ⋅l                                                     \n",
       "───────────────── + ──────                 0                                0 \n",
       "    140⋅m            30⋅m                                                     \n",
       "                                                                              \n",
       "  7                   2  7                                                    \n",
       "⋅l ⋅(2⋅√133 + 28)   h̅ ⋅l                                                     \n",
       "───────────────── + ──────                 0                                0 \n",
       "    630⋅m           105⋅m                                                     \n",
       "                                                                              \n",
       "                                2  5                   2  5      2  7         \n",
       "                              h̅ ⋅l ⋅(2⋅√133 + 28)   h̅ ⋅l     h̅ ⋅l ⋅(2⋅√133 \n",
       "          0                 - ──────────────────── + ──────  - ───────────────\n",
       "                                     840⋅m            40⋅m            5040⋅m  \n",
       "                                                                              \n",
       "                                2  7                   2  7      2  9         \n",
       "                              h̅ ⋅l ⋅(2⋅√133 + 28)   h̅ ⋅l     h̅ ⋅l ⋅(2⋅√133 \n",
       "          0                 - ──────────────────── + ──────  - ───────────────\n",
       "                                     5040⋅m          280⋅m           27720⋅m  \n",
       "\n",
       "              ⎤  ⎡    2  3                  2  3      2  5                  2 \n",
       "              ⎥  ⎢  h̅ ⋅l ⋅(18⋅√5 + 60)   h̅ ⋅l     h̅ ⋅l ⋅(18⋅√5 + 60)   h̅ ⋅\n",
       "              ⎥, ⎢- ─────────────────── + ──────  - ─────────────────── + ────\n",
       "              ⎥  ⎢          30⋅m           6⋅m             140⋅m           30⋅\n",
       "              ⎥  ⎢                                                            \n",
       "              ⎥  ⎢    2  5                  2  5      2  7                  2 \n",
       "              ⎥  ⎢  h̅ ⋅l ⋅(18⋅√5 + 60)   h̅ ⋅l     h̅ ⋅l ⋅(18⋅√5 + 60)   h̅ ⋅\n",
       "              ⎥  ⎢- ─────────────────── + ──────  - ─────────────────── + ────\n",
       "              ⎥  ⎢         140⋅m           30⋅m            630⋅m          105⋅\n",
       "              ⎥  ⎢                                                            \n",
       "          2  7⎥  ⎢                                                            \n",
       "+ 28)   h̅ ⋅l ⎥  ⎢                                                            \n",
       "───── + ──────⎥  ⎢              0                               0             \n",
       "        280⋅m ⎥  ⎢                                                            \n",
       "              ⎥  ⎢                                                            \n",
       "          2  9⎥  ⎢                                                            \n",
       "+ 28)   h̅ ⋅l ⎥  ⎢                                                            \n",
       "───── + ──────⎥  ⎢              0                               0             \n",
       "        1260⋅m⎦  ⎣                                                            \n",
       "\n",
       " 5                                                                ⎤⎤\n",
       "l                                                                 ⎥⎥\n",
       "──                0                               0               ⎥⎥\n",
       "m                                                                 ⎥⎥\n",
       "                                                                  ⎥⎥\n",
       " 7                                                                ⎥⎥\n",
       "l                                                                 ⎥⎥\n",
       "──                0                               0               ⎥⎥\n",
       "m                                                                 ⎥⎥\n",
       "                                                                  ⎥⎥\n",
       "        2  5                  2  5      2  7                  2  7⎥⎥\n",
       "      h̅ ⋅l ⋅(18⋅√5 + 60)   h̅ ⋅l     h̅ ⋅l ⋅(18⋅√5 + 60)   h̅ ⋅l ⎥⎥\n",
       "    - ─────────────────── + ──────  - ─────────────────── + ──────⎥⎥\n",
       "             840⋅m           40⋅m            5040⋅m         280⋅m ⎥⎥\n",
       "                                                                  ⎥⎥\n",
       "        2  7                  2  7      2  9                  2  9⎥⎥\n",
       "      h̅ ⋅l ⋅(18⋅√5 + 60)   h̅ ⋅l     h̅ ⋅l ⋅(18⋅√5 + 60)   h̅ ⋅l ⎥⎥\n",
       "    - ─────────────────── + ──────  - ─────────────────── + ──────⎥⎥\n",
       "             5040⋅m         280⋅m           27720⋅m         1260⋅m⎦⎦"
      ]
     },
     "execution_count": 20,
     "metadata": {},
     "output_type": "execute_result"
    }
   ],
   "source": [
    "val = []\n",
    "for i in range(len(D)):\n",
    "    val.append(H - (S*D[i]))\n",
    "val"
   ]
  },
  {
   "cell_type": "code",
   "execution_count": 21,
   "metadata": {
    "collapsed": false
   },
   "outputs": [
    {
     "data": {
      "text/latex": [
       "$$\\left[\\begin{matrix}- \\frac{\\hbar^{2} l^{3}}{30 m} \\left(- 2 \\sqrt{133} + 28\\right) + \\frac{\\hbar^{2} l^{3}}{6 m} & - \\frac{\\hbar^{2} l^{5}}{140 m} \\left(- 2 \\sqrt{133} + 28\\right) + \\frac{\\hbar^{2} l^{5}}{30 m} & 0 & 0\\\\- \\frac{\\hbar^{2} l^{5}}{140 m} \\left(- 2 \\sqrt{133} + 28\\right) + \\frac{\\hbar^{2} l^{5}}{30 m} & - \\frac{\\hbar^{2} l^{7}}{630 m} \\left(- 2 \\sqrt{133} + 28\\right) + \\frac{\\hbar^{2} l^{7}}{105 m} & 0 & 0\\\\0 & 0 & - \\frac{\\hbar^{2} l^{5}}{840 m} \\left(- 2 \\sqrt{133} + 28\\right) + \\frac{\\hbar^{2} l^{5}}{40 m} & - \\frac{\\hbar^{2} l^{7}}{5040 m} \\left(- 2 \\sqrt{133} + 28\\right) + \\frac{\\hbar^{2} l^{7}}{280 m}\\\\0 & 0 & - \\frac{\\hbar^{2} l^{7}}{5040 m} \\left(- 2 \\sqrt{133} + 28\\right) + \\frac{\\hbar^{2} l^{7}}{280 m} & - \\frac{\\hbar^{2} l^{9}}{27720 m} \\left(- 2 \\sqrt{133} + 28\\right) + \\frac{\\hbar^{2} l^{9}}{1260 m}\\end{matrix}\\right]$$"
      ],
      "text/plain": [
       "⎡    2  3                    2  3      2  5                    2  5           \n",
       "⎢  h̅ ⋅l ⋅(-2⋅√133 + 28)   h̅ ⋅l     h̅ ⋅l ⋅(-2⋅√133 + 28)   h̅ ⋅l            \n",
       "⎢- ───────────────────── + ──────  - ───────────────────── + ──────           \n",
       "⎢           30⋅m            6⋅m              140⋅m            30⋅m            \n",
       "⎢                                                                             \n",
       "⎢    2  5                    2  5      2  7                    2  7           \n",
       "⎢  h̅ ⋅l ⋅(-2⋅√133 + 28)   h̅ ⋅l     h̅ ⋅l ⋅(-2⋅√133 + 28)   h̅ ⋅l            \n",
       "⎢- ───────────────────── + ──────  - ───────────────────── + ──────           \n",
       "⎢          140⋅m            30⋅m             630⋅m           105⋅m            \n",
       "⎢                                                                             \n",
       "⎢                                                                        2  5 \n",
       "⎢                                                                      h̅ ⋅l ⋅\n",
       "⎢               0                                 0                  - ───────\n",
       "⎢                                                                             \n",
       "⎢                                                                             \n",
       "⎢                                                                        2  7 \n",
       "⎢                                                                      h̅ ⋅l ⋅\n",
       "⎢               0                                 0                  - ───────\n",
       "⎣                                                                             \n",
       "\n",
       "                                                         ⎤\n",
       "                                                         ⎥\n",
       "      0                                 0                ⎥\n",
       "                                                         ⎥\n",
       "                                                         ⎥\n",
       "                                                         ⎥\n",
       "                                                         ⎥\n",
       "      0                                 0                ⎥\n",
       "                                                         ⎥\n",
       "                                                         ⎥\n",
       "                   2  5      2  7                    2  7⎥\n",
       "(-2⋅√133 + 28)   h̅ ⋅l     h̅ ⋅l ⋅(-2⋅√133 + 28)   h̅ ⋅l ⎥\n",
       "────────────── + ──────  - ───────────────────── + ──────⎥\n",
       " 840⋅m            40⋅m             5040⋅m          280⋅m ⎥\n",
       "                                                         ⎥\n",
       "                   2  7      2  9                    2  9⎥\n",
       "(-2⋅√133 + 28)   h̅ ⋅l     h̅ ⋅l ⋅(-2⋅√133 + 28)   h̅ ⋅l ⎥\n",
       "────────────── + ──────  - ───────────────────── + ──────⎥\n",
       " 5040⋅m          280⋅m            27720⋅m          1260⋅m⎦"
      ]
     },
     "execution_count": 21,
     "metadata": {},
     "output_type": "execute_result"
    }
   ],
   "source": [
    "val[0]"
   ]
  },
  {
   "cell_type": "code",
   "execution_count": 22,
   "metadata": {
    "collapsed": false
   },
   "outputs": [
    {
     "data": {
      "text/latex": [
       "$$\\left[\\begin{matrix}c_{1}\\\\c_{2}\\\\c_{3}\\\\c_{4}\\end{matrix}\\right]$$"
      ],
      "text/plain": [
       "⎡c₁⎤\n",
       "⎢  ⎥\n",
       "⎢c₂⎥\n",
       "⎢  ⎥\n",
       "⎢c₃⎥\n",
       "⎢  ⎥\n",
       "⎣c₄⎦"
      ]
     },
     "execution_count": 22,
     "metadata": {},
     "output_type": "execute_result"
    }
   ],
   "source": [
    "c = Matrix(c)\n",
    "c"
   ]
  },
  {
   "cell_type": "code",
   "execution_count": 23,
   "metadata": {
    "collapsed": false
   },
   "outputs": [
    {
     "data": {
      "text/latex": [
       "$$\\left [ \\left[\\begin{matrix}c_{1} \\left(- \\frac{\\hbar^{2} l^{3}}{30 m} \\left(- 2 \\sqrt{133} + 28\\right) + \\frac{\\hbar^{2} l^{3}}{6 m}\\right) + c_{2} \\left(- \\frac{\\hbar^{2} l^{5}}{140 m} \\left(- 2 \\sqrt{133} + 28\\right) + \\frac{\\hbar^{2} l^{5}}{30 m}\\right)\\\\c_{1} \\left(- \\frac{\\hbar^{2} l^{5}}{140 m} \\left(- 2 \\sqrt{133} + 28\\right) + \\frac{\\hbar^{2} l^{5}}{30 m}\\right) + c_{2} \\left(- \\frac{\\hbar^{2} l^{7}}{630 m} \\left(- 2 \\sqrt{133} + 28\\right) + \\frac{\\hbar^{2} l^{7}}{105 m}\\right)\\\\c_{3} \\left(- \\frac{\\hbar^{2} l^{5}}{840 m} \\left(- 2 \\sqrt{133} + 28\\right) + \\frac{\\hbar^{2} l^{5}}{40 m}\\right) + c_{4} \\left(- \\frac{\\hbar^{2} l^{7}}{5040 m} \\left(- 2 \\sqrt{133} + 28\\right) + \\frac{\\hbar^{2} l^{7}}{280 m}\\right)\\\\c_{3} \\left(- \\frac{\\hbar^{2} l^{7}}{5040 m} \\left(- 2 \\sqrt{133} + 28\\right) + \\frac{\\hbar^{2} l^{7}}{280 m}\\right) + c_{4} \\left(- \\frac{\\hbar^{2} l^{9}}{27720 m} \\left(- 2 \\sqrt{133} + 28\\right) + \\frac{\\hbar^{2} l^{9}}{1260 m}\\right)\\end{matrix}\\right], \\quad \\left[\\begin{matrix}c_{1} \\left(- \\frac{\\hbar^{2} l^{3}}{30 m} \\left(- 18 \\sqrt{5} + 60\\right) + \\frac{\\hbar^{2} l^{3}}{6 m}\\right) + c_{2} \\left(- \\frac{\\hbar^{2} l^{5}}{140 m} \\left(- 18 \\sqrt{5} + 60\\right) + \\frac{\\hbar^{2} l^{5}}{30 m}\\right)\\\\c_{1} \\left(- \\frac{\\hbar^{2} l^{5}}{140 m} \\left(- 18 \\sqrt{5} + 60\\right) + \\frac{\\hbar^{2} l^{5}}{30 m}\\right) + c_{2} \\left(- \\frac{\\hbar^{2} l^{7}}{630 m} \\left(- 18 \\sqrt{5} + 60\\right) + \\frac{\\hbar^{2} l^{7}}{105 m}\\right)\\\\c_{3} \\left(- \\frac{\\hbar^{2} l^{5}}{840 m} \\left(- 18 \\sqrt{5} + 60\\right) + \\frac{\\hbar^{2} l^{5}}{40 m}\\right) + c_{4} \\left(- \\frac{\\hbar^{2} l^{7}}{5040 m} \\left(- 18 \\sqrt{5} + 60\\right) + \\frac{\\hbar^{2} l^{7}}{280 m}\\right)\\\\c_{3} \\left(- \\frac{\\hbar^{2} l^{7}}{5040 m} \\left(- 18 \\sqrt{5} + 60\\right) + \\frac{\\hbar^{2} l^{7}}{280 m}\\right) + c_{4} \\left(- \\frac{\\hbar^{2} l^{9}}{27720 m} \\left(- 18 \\sqrt{5} + 60\\right) + \\frac{\\hbar^{2} l^{9}}{1260 m}\\right)\\end{matrix}\\right], \\quad \\left[\\begin{matrix}c_{1} \\left(- \\frac{\\hbar^{2} l^{3}}{30 m} \\left(2 \\sqrt{133} + 28\\right) + \\frac{\\hbar^{2} l^{3}}{6 m}\\right) + c_{2} \\left(- \\frac{\\hbar^{2} l^{5}}{140 m} \\left(2 \\sqrt{133} + 28\\right) + \\frac{\\hbar^{2} l^{5}}{30 m}\\right)\\\\c_{1} \\left(- \\frac{\\hbar^{2} l^{5}}{140 m} \\left(2 \\sqrt{133} + 28\\right) + \\frac{\\hbar^{2} l^{5}}{30 m}\\right) + c_{2} \\left(- \\frac{\\hbar^{2} l^{7}}{630 m} \\left(2 \\sqrt{133} + 28\\right) + \\frac{\\hbar^{2} l^{7}}{105 m}\\right)\\\\c_{3} \\left(- \\frac{\\hbar^{2} l^{5}}{840 m} \\left(2 \\sqrt{133} + 28\\right) + \\frac{\\hbar^{2} l^{5}}{40 m}\\right) + c_{4} \\left(- \\frac{\\hbar^{2} l^{7}}{5040 m} \\left(2 \\sqrt{133} + 28\\right) + \\frac{\\hbar^{2} l^{7}}{280 m}\\right)\\\\c_{3} \\left(- \\frac{\\hbar^{2} l^{7}}{5040 m} \\left(2 \\sqrt{133} + 28\\right) + \\frac{\\hbar^{2} l^{7}}{280 m}\\right) + c_{4} \\left(- \\frac{\\hbar^{2} l^{9}}{27720 m} \\left(2 \\sqrt{133} + 28\\right) + \\frac{\\hbar^{2} l^{9}}{1260 m}\\right)\\end{matrix}\\right], \\quad \\left[\\begin{matrix}c_{1} \\left(- \\frac{\\hbar^{2} l^{3}}{30 m} \\left(18 \\sqrt{5} + 60\\right) + \\frac{\\hbar^{2} l^{3}}{6 m}\\right) + c_{2} \\left(- \\frac{\\hbar^{2} l^{5}}{140 m} \\left(18 \\sqrt{5} + 60\\right) + \\frac{\\hbar^{2} l^{5}}{30 m}\\right)\\\\c_{1} \\left(- \\frac{\\hbar^{2} l^{5}}{140 m} \\left(18 \\sqrt{5} + 60\\right) + \\frac{\\hbar^{2} l^{5}}{30 m}\\right) + c_{2} \\left(- \\frac{\\hbar^{2} l^{7}}{630 m} \\left(18 \\sqrt{5} + 60\\right) + \\frac{\\hbar^{2} l^{7}}{105 m}\\right)\\\\c_{3} \\left(- \\frac{\\hbar^{2} l^{5}}{840 m} \\left(18 \\sqrt{5} + 60\\right) + \\frac{\\hbar^{2} l^{5}}{40 m}\\right) + c_{4} \\left(- \\frac{\\hbar^{2} l^{7}}{5040 m} \\left(18 \\sqrt{5} + 60\\right) + \\frac{\\hbar^{2} l^{7}}{280 m}\\right)\\\\c_{3} \\left(- \\frac{\\hbar^{2} l^{7}}{5040 m} \\left(18 \\sqrt{5} + 60\\right) + \\frac{\\hbar^{2} l^{7}}{280 m}\\right) + c_{4} \\left(- \\frac{\\hbar^{2} l^{9}}{27720 m} \\left(18 \\sqrt{5} + 60\\right) + \\frac{\\hbar^{2} l^{9}}{1260 m}\\right)\\end{matrix}\\right]\\right ]$$"
      ],
      "text/plain": [
       "⎡⎡   ⎛    2  3                    2  3⎞      ⎛    2  5                    2  5\n",
       "⎢⎢   ⎜  h̅ ⋅l ⋅(-2⋅√133 + 28)   h̅ ⋅l ⎟      ⎜  h̅ ⋅l ⋅(-2⋅√133 + 28)   h̅ ⋅l \n",
       "⎢⎢c₁⋅⎜- ───────────────────── + ──────⎟ + c₂⋅⎜- ───────────────────── + ──────\n",
       "⎢⎢   ⎝           30⋅m            6⋅m  ⎠      ⎝          140⋅m            30⋅m \n",
       "⎢⎢                                                                            \n",
       "⎢⎢   ⎛    2  5                    2  5⎞      ⎛    2  7                    2  7\n",
       "⎢⎢   ⎜  h̅ ⋅l ⋅(-2⋅√133 + 28)   h̅ ⋅l ⎟      ⎜  h̅ ⋅l ⋅(-2⋅√133 + 28)   h̅ ⋅l \n",
       "⎢⎢c₁⋅⎜- ───────────────────── + ──────⎟ + c₂⋅⎜- ───────────────────── + ──────\n",
       "⎢⎢   ⎝          140⋅m            30⋅m ⎠      ⎝          630⋅m           105⋅m \n",
       "⎢⎢                                                                            \n",
       "⎢⎢   ⎛    2  5                    2  5⎞      ⎛    2  7                    2  7\n",
       "⎢⎢   ⎜  h̅ ⋅l ⋅(-2⋅√133 + 28)   h̅ ⋅l ⎟      ⎜  h̅ ⋅l ⋅(-2⋅√133 + 28)   h̅ ⋅l \n",
       "⎢⎢c₃⋅⎜- ───────────────────── + ──────⎟ + c₄⋅⎜- ───────────────────── + ──────\n",
       "⎢⎢   ⎝          840⋅m            40⋅m ⎠      ⎝          5040⋅m          280⋅m \n",
       "⎢⎢                                                                            \n",
       "⎢⎢   ⎛    2  7                    2  7⎞      ⎛    2  9                    2  9\n",
       "⎢⎢   ⎜  h̅ ⋅l ⋅(-2⋅√133 + 28)   h̅ ⋅l ⎟      ⎜  h̅ ⋅l ⋅(-2⋅√133 + 28)   h̅ ⋅l \n",
       "⎢⎢c₃⋅⎜- ───────────────────── + ──────⎟ + c₄⋅⎜- ───────────────────── + ──────\n",
       "⎣⎣   ⎝          5040⋅m          280⋅m ⎠      ⎝         27720⋅m          1260⋅m\n",
       "\n",
       "⎞⎤  ⎡   ⎛    2  3                   2  3⎞      ⎛    2  5                   2  \n",
       "⎟⎥  ⎢   ⎜  h̅ ⋅l ⋅(-18⋅√5 + 60)   h̅ ⋅l ⎟      ⎜  h̅ ⋅l ⋅(-18⋅√5 + 60)   h̅ ⋅l\n",
       "⎟⎥, ⎢c₁⋅⎜- ──────────────────── + ──────⎟ + c₂⋅⎜- ──────────────────── + ─────\n",
       "⎠⎥  ⎢   ⎝          30⋅m            6⋅m  ⎠      ⎝         140⋅m            30⋅m\n",
       " ⎥  ⎢                                                                         \n",
       "⎞⎥  ⎢   ⎛    2  5                   2  5⎞      ⎛    2  7                   2  \n",
       "⎟⎥  ⎢   ⎜  h̅ ⋅l ⋅(-18⋅√5 + 60)   h̅ ⋅l ⎟      ⎜  h̅ ⋅l ⋅(-18⋅√5 + 60)   h̅ ⋅l\n",
       "⎟⎥  ⎢c₁⋅⎜- ──────────────────── + ──────⎟ + c₂⋅⎜- ──────────────────── + ─────\n",
       "⎠⎥  ⎢   ⎝         140⋅m            30⋅m ⎠      ⎝         630⋅m           105⋅m\n",
       " ⎥  ⎢                                                                         \n",
       "⎞⎥  ⎢   ⎛    2  5                   2  5⎞      ⎛    2  7                   2  \n",
       "⎟⎥  ⎢   ⎜  h̅ ⋅l ⋅(-18⋅√5 + 60)   h̅ ⋅l ⎟      ⎜  h̅ ⋅l ⋅(-18⋅√5 + 60)   h̅ ⋅l\n",
       "⎟⎥  ⎢c₃⋅⎜- ──────────────────── + ──────⎟ + c₄⋅⎜- ──────────────────── + ─────\n",
       "⎠⎥  ⎢   ⎝         840⋅m            40⋅m ⎠      ⎝         5040⋅m          280⋅m\n",
       " ⎥  ⎢                                                                         \n",
       "⎞⎥  ⎢   ⎛    2  7                   2  7⎞      ⎛    2  9                   2  \n",
       "⎟⎥  ⎢   ⎜  h̅ ⋅l ⋅(-18⋅√5 + 60)   h̅ ⋅l ⎟      ⎜  h̅ ⋅l ⋅(-18⋅√5 + 60)   h̅ ⋅l\n",
       "⎟⎥  ⎢c₃⋅⎜- ──────────────────── + ──────⎟ + c₄⋅⎜- ──────────────────── + ─────\n",
       "⎠⎦  ⎣   ⎝         5040⋅m          280⋅m ⎠      ⎝        27720⋅m          1260⋅\n",
       "\n",
       "5⎞⎤  ⎡   ⎛    2  3                   2  3⎞      ⎛    2  5                   2 \n",
       " ⎟⎥  ⎢   ⎜  h̅ ⋅l ⋅(2⋅√133 + 28)   h̅ ⋅l ⎟      ⎜  h̅ ⋅l ⋅(2⋅√133 + 28)   h̅ ⋅\n",
       "─⎟⎥, ⎢c₁⋅⎜- ──────────────────── + ──────⎟ + c₂⋅⎜- ──────────────────── + ────\n",
       " ⎠⎥  ⎢   ⎝          30⋅m            6⋅m  ⎠      ⎝         140⋅m            30⋅\n",
       "  ⎥  ⎢                                                                        \n",
       "7⎞⎥  ⎢   ⎛    2  5                   2  5⎞      ⎛    2  7                   2 \n",
       " ⎟⎥  ⎢   ⎜  h̅ ⋅l ⋅(2⋅√133 + 28)   h̅ ⋅l ⎟      ⎜  h̅ ⋅l ⋅(2⋅√133 + 28)   h̅ ⋅\n",
       "─⎟⎥  ⎢c₁⋅⎜- ──────────────────── + ──────⎟ + c₂⋅⎜- ──────────────────── + ────\n",
       " ⎠⎥  ⎢   ⎝         140⋅m            30⋅m ⎠      ⎝         630⋅m           105⋅\n",
       "  ⎥  ⎢                                                                        \n",
       "7⎞⎥  ⎢   ⎛    2  5                   2  5⎞      ⎛    2  7                   2 \n",
       " ⎟⎥  ⎢   ⎜  h̅ ⋅l ⋅(2⋅√133 + 28)   h̅ ⋅l ⎟      ⎜  h̅ ⋅l ⋅(2⋅√133 + 28)   h̅ ⋅\n",
       "─⎟⎥  ⎢c₃⋅⎜- ──────────────────── + ──────⎟ + c₄⋅⎜- ──────────────────── + ────\n",
       " ⎠⎥  ⎢   ⎝         840⋅m            40⋅m ⎠      ⎝         5040⋅m          280⋅\n",
       "  ⎥  ⎢                                                                        \n",
       "9⎞⎥  ⎢   ⎛    2  7                   2  7⎞      ⎛    2  9                   2 \n",
       " ⎟⎥  ⎢   ⎜  h̅ ⋅l ⋅(2⋅√133 + 28)   h̅ ⋅l ⎟      ⎜  h̅ ⋅l ⋅(2⋅√133 + 28)   h̅ ⋅\n",
       "─⎟⎥  ⎢c₃⋅⎜- ──────────────────── + ──────⎟ + c₄⋅⎜- ──────────────────── + ────\n",
       "m⎠⎦  ⎣   ⎝         5040⋅m          280⋅m ⎠      ⎝        27720⋅m          1260\n",
       "\n",
       " 5⎞⎤  ⎡   ⎛    2  3                  2  3⎞      ⎛    2  5                  2  \n",
       "l ⎟⎥  ⎢   ⎜  h̅ ⋅l ⋅(18⋅√5 + 60)   h̅ ⋅l ⎟      ⎜  h̅ ⋅l ⋅(18⋅√5 + 60)   h̅ ⋅l\n",
       "──⎟⎥, ⎢c₁⋅⎜- ─────────────────── + ──────⎟ + c₂⋅⎜- ─────────────────── + ─────\n",
       "m ⎠⎥  ⎢   ⎝          30⋅m           6⋅m  ⎠      ⎝         140⋅m           30⋅m\n",
       "   ⎥  ⎢                                                                       \n",
       " 7⎞⎥  ⎢   ⎛    2  5                  2  5⎞      ⎛    2  7                  2  \n",
       "l ⎟⎥  ⎢   ⎜  h̅ ⋅l ⋅(18⋅√5 + 60)   h̅ ⋅l ⎟      ⎜  h̅ ⋅l ⋅(18⋅√5 + 60)   h̅ ⋅l\n",
       "──⎟⎥  ⎢c₁⋅⎜- ─────────────────── + ──────⎟ + c₂⋅⎜- ─────────────────── + ─────\n",
       "m ⎠⎥  ⎢   ⎝         140⋅m           30⋅m ⎠      ⎝         630⋅m          105⋅m\n",
       "   ⎥  ⎢                                                                       \n",
       " 7⎞⎥  ⎢   ⎛    2  5                  2  5⎞      ⎛    2  7                  2  \n",
       "l ⎟⎥  ⎢   ⎜  h̅ ⋅l ⋅(18⋅√5 + 60)   h̅ ⋅l ⎟      ⎜  h̅ ⋅l ⋅(18⋅√5 + 60)   h̅ ⋅l\n",
       "──⎟⎥  ⎢c₃⋅⎜- ─────────────────── + ──────⎟ + c₄⋅⎜- ─────────────────── + ─────\n",
       "m ⎠⎥  ⎢   ⎝         840⋅m           40⋅m ⎠      ⎝         5040⋅m         280⋅m\n",
       "   ⎥  ⎢                                                                       \n",
       " 9⎞⎥  ⎢   ⎛    2  7                  2  7⎞      ⎛    2  9                  2  \n",
       "l ⎟⎥  ⎢   ⎜  h̅ ⋅l ⋅(18⋅√5 + 60)   h̅ ⋅l ⎟      ⎜  h̅ ⋅l ⋅(18⋅√5 + 60)   h̅ ⋅l\n",
       "──⎟⎥  ⎢c₃⋅⎜- ─────────────────── + ──────⎟ + c₄⋅⎜- ─────────────────── + ─────\n",
       "⋅m⎠⎦  ⎣   ⎝         5040⋅m         280⋅m ⎠      ⎝        27720⋅m         1260⋅\n",
       "\n",
       "5⎞⎤⎤\n",
       " ⎟⎥⎥\n",
       "─⎟⎥⎥\n",
       " ⎠⎥⎥\n",
       "  ⎥⎥\n",
       "7⎞⎥⎥\n",
       " ⎟⎥⎥\n",
       "─⎟⎥⎥\n",
       " ⎠⎥⎥\n",
       "  ⎥⎥\n",
       "7⎞⎥⎥\n",
       " ⎟⎥⎥\n",
       "─⎟⎥⎥\n",
       " ⎠⎥⎥\n",
       "  ⎥⎥\n",
       "9⎞⎥⎥\n",
       " ⎟⎥⎥\n",
       "─⎟⎥⎥\n",
       "m⎠⎦⎦"
      ]
     },
     "execution_count": 23,
     "metadata": {},
     "output_type": "execute_result"
    }
   ],
   "source": [
    "f_comp = []\n",
    "for i in range(len(val)):\n",
    "    f_comp.append(val[i]*c)\n",
    "f_comp"
   ]
  },
  {
   "cell_type": "code",
   "execution_count": 24,
   "metadata": {
    "collapsed": false
   },
   "outputs": [
    {
     "data": {
      "text/latex": [
       "$$\\left [ \\left \\{ c_{1} : \\frac{c_{2} l^{2}}{3} + \\frac{\\sqrt{133} c_{2}}{21} l^{2}, \\quad c_{3} : 0, \\quad c_{4} : 0\\right \\}, \\quad \\left \\{ c_{1} : 0, \\quad c_{2} : 0, \\quad c_{3} : \\frac{c_{4} l^{2}}{33} + \\frac{\\sqrt{5} c_{4}}{11} l^{2}\\right \\}, \\quad \\left \\{ c_{1} : - \\frac{\\sqrt{133} c_{2}}{21} l^{2} + \\frac{c_{2} l^{2}}{3}, \\quad c_{3} : 0, \\quad c_{4} : 0\\right \\}, \\quad \\left \\{ c_{1} : 0, \\quad c_{2} : 0, \\quad c_{3} : - \\frac{\\sqrt{5} c_{4}}{11} l^{2} + \\frac{c_{4} l^{2}}{33}\\right \\}\\right ]$$"
      ],
      "text/plain": [
       "⎡⎧        2            2              ⎫  ⎧                      2          2⎫ \n",
       "⎢⎪    c₂⋅l    √133⋅c₂⋅l               ⎪  ⎪                  c₄⋅l    √5⋅c₄⋅l ⎪ \n",
       "⎢⎨c₁: ───── + ──────────, c₃: 0, c₄: 0⎬, ⎨c₁: 0, c₂: 0, c₃: ───── + ────────⎬,\n",
       "⎢⎪      3         21                  ⎪  ⎪                    33       11   ⎪ \n",
       "⎣⎩                                    ⎭  ⎩                                  ⎭ \n",
       "\n",
       " ⎧               2       2              ⎫  ⎧                           2      \n",
       " ⎪      √133⋅c₂⋅l    c₂⋅l               ⎪  ⎪                    √5⋅c₄⋅l    c₄⋅\n",
       " ⎨c₁: - ────────── + ─────, c₃: 0, c₄: 0⎬, ⎨c₁: 0, c₂: 0, c₃: - ──────── + ───\n",
       " ⎪          21         3                ⎪  ⎪                       11        3\n",
       " ⎩                                      ⎭  ⎩                                  \n",
       "\n",
       " 2⎫⎤\n",
       "l ⎪⎥\n",
       "──⎬⎥\n",
       "3 ⎪⎥\n",
       "  ⎭⎦"
      ]
     },
     "execution_count": 24,
     "metadata": {},
     "output_type": "execute_result"
    }
   ],
   "source": [
    "r_comp = []\n",
    "for i in range(len(f_comp)):\n",
    "    r_comp.append(solve(f_comp[i], c))\n",
    "r_comp"
   ]
  },
  {
   "cell_type": "code",
   "execution_count": 25,
   "metadata": {
    "collapsed": false
   },
   "outputs": [
    {
     "ename": "NameError",
     "evalue": "name 'f1' is not defined",
     "output_type": "error",
     "traceback": [
      "\u001b[0;31m---------------------------------------------------------------------------\u001b[0m",
      "\u001b[0;31mNameError\u001b[0m                                 Traceback (most recent call last)",
      "\u001b[0;32m<ipython-input-25-d72c2d313efb>\u001b[0m in \u001b[0;36m<module>\u001b[0;34m()\u001b[0m\n\u001b[1;32m      1\u001b[0m \u001b[0;34m\u001b[0m\u001b[0m\n\u001b[0;32m----> 2\u001b[0;31m \u001b[0mr1\u001b[0m \u001b[0;34m=\u001b[0m \u001b[0msolve\u001b[0m\u001b[0;34m(\u001b[0m\u001b[0mf1\u001b[0m\u001b[0;34m,\u001b[0m \u001b[0mc\u001b[0m\u001b[0;34m)\u001b[0m\u001b[0;34m\u001b[0m\u001b[0m\n\u001b[0m\u001b[1;32m      3\u001b[0m \u001b[0mr2\u001b[0m \u001b[0;34m=\u001b[0m \u001b[0msolve\u001b[0m\u001b[0;34m(\u001b[0m\u001b[0mf2\u001b[0m\u001b[0;34m,\u001b[0m \u001b[0mc\u001b[0m\u001b[0;34m)\u001b[0m\u001b[0;34m\u001b[0m\u001b[0m\n\u001b[1;32m      4\u001b[0m \u001b[0mr3\u001b[0m \u001b[0;34m=\u001b[0m \u001b[0msolve\u001b[0m\u001b[0;34m(\u001b[0m\u001b[0mf3\u001b[0m\u001b[0;34m,\u001b[0m \u001b[0mc\u001b[0m\u001b[0;34m)\u001b[0m\u001b[0;34m\u001b[0m\u001b[0m\n\u001b[1;32m      5\u001b[0m \u001b[0mr4\u001b[0m \u001b[0;34m=\u001b[0m \u001b[0msolve\u001b[0m\u001b[0;34m(\u001b[0m\u001b[0mf4\u001b[0m\u001b[0;34m,\u001b[0m \u001b[0mc\u001b[0m\u001b[0;34m)\u001b[0m\u001b[0;34m\u001b[0m\u001b[0m\n",
      "\u001b[0;31mNameError\u001b[0m: name 'f1' is not defined"
     ]
    }
   ],
   "source": [
    "\n",
    "r1 = solve(f1, c)\n",
    "r2 = solve(f2, c)\n",
    "r3 = solve(f3, c)\n",
    "r4 = solve(f4, c)\n",
    "r1[c[0]]"
   ]
  },
  {
   "cell_type": "code",
   "execution_count": 26,
   "metadata": {
    "collapsed": false
   },
   "outputs": [
    {
     "data": {
      "text/latex": [
       "$$\\left[\\begin{matrix}c_{1} \\left(- \\frac{\\hbar^{2} l^{3}}{30 m} \\left(- 2 \\sqrt{133} + 28\\right) + \\frac{\\hbar^{2} l^{3}}{6 m}\\right) + c_{2} \\left(- \\frac{\\hbar^{2} l^{5}}{140 m} \\left(- 2 \\sqrt{133} + 28\\right) + \\frac{\\hbar^{2} l^{5}}{30 m}\\right) & c_{1} \\left(- \\frac{\\hbar^{2} l^{3}}{30 m} \\left(- 18 \\sqrt{5} + 60\\right) + \\frac{\\hbar^{2} l^{3}}{6 m}\\right) + c_{2} \\left(- \\frac{\\hbar^{2} l^{5}}{140 m} \\left(- 18 \\sqrt{5} + 60\\right) + \\frac{\\hbar^{2} l^{5}}{30 m}\\right) & c_{1} \\left(- \\frac{\\hbar^{2} l^{3}}{30 m} \\left(2 \\sqrt{133} + 28\\right) + \\frac{\\hbar^{2} l^{3}}{6 m}\\right) + c_{2} \\left(- \\frac{\\hbar^{2} l^{5}}{140 m} \\left(2 \\sqrt{133} + 28\\right) + \\frac{\\hbar^{2} l^{5}}{30 m}\\right) & c_{1} \\left(- \\frac{\\hbar^{2} l^{3}}{30 m} \\left(18 \\sqrt{5} + 60\\right) + \\frac{\\hbar^{2} l^{3}}{6 m}\\right) + c_{2} \\left(- \\frac{\\hbar^{2} l^{5}}{140 m} \\left(18 \\sqrt{5} + 60\\right) + \\frac{\\hbar^{2} l^{5}}{30 m}\\right)\\\\c_{1} \\left(- \\frac{\\hbar^{2} l^{5}}{140 m} \\left(- 2 \\sqrt{133} + 28\\right) + \\frac{\\hbar^{2} l^{5}}{30 m}\\right) + c_{2} \\left(- \\frac{\\hbar^{2} l^{7}}{630 m} \\left(- 2 \\sqrt{133} + 28\\right) + \\frac{\\hbar^{2} l^{7}}{105 m}\\right) & c_{1} \\left(- \\frac{\\hbar^{2} l^{5}}{140 m} \\left(- 18 \\sqrt{5} + 60\\right) + \\frac{\\hbar^{2} l^{5}}{30 m}\\right) + c_{2} \\left(- \\frac{\\hbar^{2} l^{7}}{630 m} \\left(- 18 \\sqrt{5} + 60\\right) + \\frac{\\hbar^{2} l^{7}}{105 m}\\right) & c_{1} \\left(- \\frac{\\hbar^{2} l^{5}}{140 m} \\left(2 \\sqrt{133} + 28\\right) + \\frac{\\hbar^{2} l^{5}}{30 m}\\right) + c_{2} \\left(- \\frac{\\hbar^{2} l^{7}}{630 m} \\left(2 \\sqrt{133} + 28\\right) + \\frac{\\hbar^{2} l^{7}}{105 m}\\right) & c_{1} \\left(- \\frac{\\hbar^{2} l^{5}}{140 m} \\left(18 \\sqrt{5} + 60\\right) + \\frac{\\hbar^{2} l^{5}}{30 m}\\right) + c_{2} \\left(- \\frac{\\hbar^{2} l^{7}}{630 m} \\left(18 \\sqrt{5} + 60\\right) + \\frac{\\hbar^{2} l^{7}}{105 m}\\right)\\\\c_{3} \\left(- \\frac{\\hbar^{2} l^{5}}{840 m} \\left(- 2 \\sqrt{133} + 28\\right) + \\frac{\\hbar^{2} l^{5}}{40 m}\\right) + c_{4} \\left(- \\frac{\\hbar^{2} l^{7}}{5040 m} \\left(- 2 \\sqrt{133} + 28\\right) + \\frac{\\hbar^{2} l^{7}}{280 m}\\right) & c_{3} \\left(- \\frac{\\hbar^{2} l^{5}}{840 m} \\left(- 18 \\sqrt{5} + 60\\right) + \\frac{\\hbar^{2} l^{5}}{40 m}\\right) + c_{4} \\left(- \\frac{\\hbar^{2} l^{7}}{5040 m} \\left(- 18 \\sqrt{5} + 60\\right) + \\frac{\\hbar^{2} l^{7}}{280 m}\\right) & c_{3} \\left(- \\frac{\\hbar^{2} l^{5}}{840 m} \\left(2 \\sqrt{133} + 28\\right) + \\frac{\\hbar^{2} l^{5}}{40 m}\\right) + c_{4} \\left(- \\frac{\\hbar^{2} l^{7}}{5040 m} \\left(2 \\sqrt{133} + 28\\right) + \\frac{\\hbar^{2} l^{7}}{280 m}\\right) & c_{3} \\left(- \\frac{\\hbar^{2} l^{5}}{840 m} \\left(18 \\sqrt{5} + 60\\right) + \\frac{\\hbar^{2} l^{5}}{40 m}\\right) + c_{4} \\left(- \\frac{\\hbar^{2} l^{7}}{5040 m} \\left(18 \\sqrt{5} + 60\\right) + \\frac{\\hbar^{2} l^{7}}{280 m}\\right)\\\\c_{3} \\left(- \\frac{\\hbar^{2} l^{7}}{5040 m} \\left(- 2 \\sqrt{133} + 28\\right) + \\frac{\\hbar^{2} l^{7}}{280 m}\\right) + c_{4} \\left(- \\frac{\\hbar^{2} l^{9}}{27720 m} \\left(- 2 \\sqrt{133} + 28\\right) + \\frac{\\hbar^{2} l^{9}}{1260 m}\\right) & c_{3} \\left(- \\frac{\\hbar^{2} l^{7}}{5040 m} \\left(- 18 \\sqrt{5} + 60\\right) + \\frac{\\hbar^{2} l^{7}}{280 m}\\right) + c_{4} \\left(- \\frac{\\hbar^{2} l^{9}}{27720 m} \\left(- 18 \\sqrt{5} + 60\\right) + \\frac{\\hbar^{2} l^{9}}{1260 m}\\right) & c_{3} \\left(- \\frac{\\hbar^{2} l^{7}}{5040 m} \\left(2 \\sqrt{133} + 28\\right) + \\frac{\\hbar^{2} l^{7}}{280 m}\\right) + c_{4} \\left(- \\frac{\\hbar^{2} l^{9}}{27720 m} \\left(2 \\sqrt{133} + 28\\right) + \\frac{\\hbar^{2} l^{9}}{1260 m}\\right) & c_{3} \\left(- \\frac{\\hbar^{2} l^{7}}{5040 m} \\left(18 \\sqrt{5} + 60\\right) + \\frac{\\hbar^{2} l^{7}}{280 m}\\right) + c_{4} \\left(- \\frac{\\hbar^{2} l^{9}}{27720 m} \\left(18 \\sqrt{5} + 60\\right) + \\frac{\\hbar^{2} l^{9}}{1260 m}\\right)\\end{matrix}\\right]$$"
      ],
      "text/plain": [
       "⎡   ⎛    2  3                    2  3⎞      ⎛    2  5                    2  5⎞\n",
       "⎢   ⎜  h̅ ⋅l ⋅(-2⋅√133 + 28)   h̅ ⋅l ⎟      ⎜  h̅ ⋅l ⋅(-2⋅√133 + 28)   h̅ ⋅l ⎟\n",
       "⎢c₁⋅⎜- ───────────────────── + ──────⎟ + c₂⋅⎜- ───────────────────── + ──────⎟\n",
       "⎢   ⎝           30⋅m            6⋅m  ⎠      ⎝          140⋅m            30⋅m ⎠\n",
       "⎢                                                                             \n",
       "⎢   ⎛    2  5                    2  5⎞      ⎛    2  7                    2  7⎞\n",
       "⎢   ⎜  h̅ ⋅l ⋅(-2⋅√133 + 28)   h̅ ⋅l ⎟      ⎜  h̅ ⋅l ⋅(-2⋅√133 + 28)   h̅ ⋅l ⎟\n",
       "⎢c₁⋅⎜- ───────────────────── + ──────⎟ + c₂⋅⎜- ───────────────────── + ──────⎟\n",
       "⎢   ⎝          140⋅m            30⋅m ⎠      ⎝          630⋅m           105⋅m ⎠\n",
       "⎢                                                                             \n",
       "⎢   ⎛    2  5                    2  5⎞      ⎛    2  7                    2  7⎞\n",
       "⎢   ⎜  h̅ ⋅l ⋅(-2⋅√133 + 28)   h̅ ⋅l ⎟      ⎜  h̅ ⋅l ⋅(-2⋅√133 + 28)   h̅ ⋅l ⎟\n",
       "⎢c₃⋅⎜- ───────────────────── + ──────⎟ + c₄⋅⎜- ───────────────────── + ──────⎟\n",
       "⎢   ⎝          840⋅m            40⋅m ⎠      ⎝          5040⋅m          280⋅m ⎠\n",
       "⎢                                                                             \n",
       "⎢   ⎛    2  7                    2  7⎞      ⎛    2  9                    2  9⎞\n",
       "⎢   ⎜  h̅ ⋅l ⋅(-2⋅√133 + 28)   h̅ ⋅l ⎟      ⎜  h̅ ⋅l ⋅(-2⋅√133 + 28)   h̅ ⋅l ⎟\n",
       "⎢c₃⋅⎜- ───────────────────── + ──────⎟ + c₄⋅⎜- ───────────────────── + ──────⎟\n",
       "⎣   ⎝          5040⋅m          280⋅m ⎠      ⎝         27720⋅m          1260⋅m⎠\n",
       "\n",
       "     ⎛    2  3                   2  3⎞      ⎛    2  5                   2  5⎞ \n",
       "     ⎜  h̅ ⋅l ⋅(-18⋅√5 + 60)   h̅ ⋅l ⎟      ⎜  h̅ ⋅l ⋅(-18⋅√5 + 60)   h̅ ⋅l ⎟ \n",
       "  c₁⋅⎜- ──────────────────── + ──────⎟ + c₂⋅⎜- ──────────────────── + ──────⎟ \n",
       "     ⎝          30⋅m            6⋅m  ⎠      ⎝         140⋅m            30⋅m ⎠ \n",
       "                                                                              \n",
       "     ⎛    2  5                   2  5⎞      ⎛    2  7                   2  7⎞ \n",
       "     ⎜  h̅ ⋅l ⋅(-18⋅√5 + 60)   h̅ ⋅l ⎟      ⎜  h̅ ⋅l ⋅(-18⋅√5 + 60)   h̅ ⋅l ⎟ \n",
       "  c₁⋅⎜- ──────────────────── + ──────⎟ + c₂⋅⎜- ──────────────────── + ──────⎟ \n",
       "     ⎝         140⋅m            30⋅m ⎠      ⎝         630⋅m           105⋅m ⎠ \n",
       "                                                                              \n",
       "     ⎛    2  5                   2  5⎞      ⎛    2  7                   2  7⎞ \n",
       "     ⎜  h̅ ⋅l ⋅(-18⋅√5 + 60)   h̅ ⋅l ⎟      ⎜  h̅ ⋅l ⋅(-18⋅√5 + 60)   h̅ ⋅l ⎟ \n",
       "  c₃⋅⎜- ──────────────────── + ──────⎟ + c₄⋅⎜- ──────────────────── + ──────⎟ \n",
       "     ⎝         840⋅m            40⋅m ⎠      ⎝         5040⋅m          280⋅m ⎠ \n",
       "                                                                              \n",
       "     ⎛    2  7                   2  7⎞      ⎛    2  9                   2  9⎞ \n",
       "     ⎜  h̅ ⋅l ⋅(-18⋅√5 + 60)   h̅ ⋅l ⎟      ⎜  h̅ ⋅l ⋅(-18⋅√5 + 60)   h̅ ⋅l ⎟ \n",
       "  c₃⋅⎜- ──────────────────── + ──────⎟ + c₄⋅⎜- ──────────────────── + ──────⎟ \n",
       "     ⎝         5040⋅m          280⋅m ⎠      ⎝        27720⋅m          1260⋅m⎠ \n",
       "\n",
       "    ⎛    2  3                   2  3⎞      ⎛    2  5                   2  5⎞  \n",
       "    ⎜  h̅ ⋅l ⋅(2⋅√133 + 28)   h̅ ⋅l ⎟      ⎜  h̅ ⋅l ⋅(2⋅√133 + 28)   h̅ ⋅l ⎟  \n",
       " c₁⋅⎜- ──────────────────── + ──────⎟ + c₂⋅⎜- ──────────────────── + ──────⎟  \n",
       "    ⎝          30⋅m            6⋅m  ⎠      ⎝         140⋅m            30⋅m ⎠  \n",
       "                                                                              \n",
       "    ⎛    2  5                   2  5⎞      ⎛    2  7                   2  7⎞  \n",
       "    ⎜  h̅ ⋅l ⋅(2⋅√133 + 28)   h̅ ⋅l ⎟      ⎜  h̅ ⋅l ⋅(2⋅√133 + 28)   h̅ ⋅l ⎟  \n",
       " c₁⋅⎜- ──────────────────── + ──────⎟ + c₂⋅⎜- ──────────────────── + ──────⎟  \n",
       "    ⎝         140⋅m            30⋅m ⎠      ⎝         630⋅m           105⋅m ⎠  \n",
       "                                                                              \n",
       "    ⎛    2  5                   2  5⎞      ⎛    2  7                   2  7⎞  \n",
       "    ⎜  h̅ ⋅l ⋅(2⋅√133 + 28)   h̅ ⋅l ⎟      ⎜  h̅ ⋅l ⋅(2⋅√133 + 28)   h̅ ⋅l ⎟  \n",
       " c₃⋅⎜- ──────────────────── + ──────⎟ + c₄⋅⎜- ──────────────────── + ──────⎟  \n",
       "    ⎝         840⋅m            40⋅m ⎠      ⎝         5040⋅m          280⋅m ⎠  \n",
       "                                                                              \n",
       "    ⎛    2  7                   2  7⎞      ⎛    2  9                   2  9⎞  \n",
       "    ⎜  h̅ ⋅l ⋅(2⋅√133 + 28)   h̅ ⋅l ⎟      ⎜  h̅ ⋅l ⋅(2⋅√133 + 28)   h̅ ⋅l ⎟  \n",
       " c₃⋅⎜- ──────────────────── + ──────⎟ + c₄⋅⎜- ──────────────────── + ──────⎟  \n",
       "    ⎝         5040⋅m          280⋅m ⎠      ⎝        27720⋅m          1260⋅m⎠  \n",
       "\n",
       "   ⎛    2  3                  2  3⎞      ⎛    2  5                  2  5⎞⎤\n",
       "   ⎜  h̅ ⋅l ⋅(18⋅√5 + 60)   h̅ ⋅l ⎟      ⎜  h̅ ⋅l ⋅(18⋅√5 + 60)   h̅ ⋅l ⎟⎥\n",
       "c₁⋅⎜- ─────────────────── + ──────⎟ + c₂⋅⎜- ─────────────────── + ──────⎟⎥\n",
       "   ⎝          30⋅m           6⋅m  ⎠      ⎝         140⋅m           30⋅m ⎠⎥\n",
       "                                                                         ⎥\n",
       "   ⎛    2  5                  2  5⎞      ⎛    2  7                  2  7⎞⎥\n",
       "   ⎜  h̅ ⋅l ⋅(18⋅√5 + 60)   h̅ ⋅l ⎟      ⎜  h̅ ⋅l ⋅(18⋅√5 + 60)   h̅ ⋅l ⎟⎥\n",
       "c₁⋅⎜- ─────────────────── + ──────⎟ + c₂⋅⎜- ─────────────────── + ──────⎟⎥\n",
       "   ⎝         140⋅m           30⋅m ⎠      ⎝         630⋅m          105⋅m ⎠⎥\n",
       "                                                                         ⎥\n",
       "   ⎛    2  5                  2  5⎞      ⎛    2  7                  2  7⎞⎥\n",
       "   ⎜  h̅ ⋅l ⋅(18⋅√5 + 60)   h̅ ⋅l ⎟      ⎜  h̅ ⋅l ⋅(18⋅√5 + 60)   h̅ ⋅l ⎟⎥\n",
       "c₃⋅⎜- ─────────────────── + ──────⎟ + c₄⋅⎜- ─────────────────── + ──────⎟⎥\n",
       "   ⎝         840⋅m           40⋅m ⎠      ⎝         5040⋅m         280⋅m ⎠⎥\n",
       "                                                                         ⎥\n",
       "   ⎛    2  7                  2  7⎞      ⎛    2  9                  2  9⎞⎥\n",
       "   ⎜  h̅ ⋅l ⋅(18⋅√5 + 60)   h̅ ⋅l ⎟      ⎜  h̅ ⋅l ⋅(18⋅√5 + 60)   h̅ ⋅l ⎟⎥\n",
       "c₃⋅⎜- ─────────────────── + ──────⎟ + c₄⋅⎜- ─────────────────── + ──────⎟⎥\n",
       "   ⎝         5040⋅m         280⋅m ⎠      ⎝        27720⋅m         1260⋅m⎠⎦"
      ]
     },
     "execution_count": 26,
     "metadata": {},
     "output_type": "execute_result"
    }
   ],
   "source": [
    "EC = Matrix([f_comp[0]])\n",
    "EC = EC.col_insert(1,f_comp[1])\n",
    "EC = EC.col_insert(2,f_comp[2])\n",
    "EC = EC.col_insert(3,f_comp[3])\n",
    "EC"
   ]
  },
  {
   "cell_type": "code",
   "execution_count": 29,
   "metadata": {
    "collapsed": false
   },
   "outputs": [
    {
     "data": {
      "text/latex": [
       "$$\\left[\\begin{matrix}\\frac{c_{2} l^{2}}{21} \\left(7 + \\sqrt{133}\\right) & 0 & \\frac{c_{2} l^{2}}{21} \\left(- \\sqrt{133} + 7\\right) & 0 & c_{1}\\\\c_{2} & 0 & c_{2} & 0 & c_{2}\\\\0 & \\frac{c_{4} l^{2}}{33} \\left(1 + 3 \\sqrt{5}\\right) & 0 & \\frac{c_{4} l^{2}}{33} \\left(- 3 \\sqrt{5} + 1\\right) & c_{3}\\\\0 & c_{4} & 0 & c_{4} & c_{4}\\end{matrix}\\right]$$"
      ],
      "text/plain": [
       "⎡    2                                   2                                   ⎤\n",
       "⎢c₂⋅l ⋅(7 + √133)                    c₂⋅l ⋅(-√133 + 7)                       ⎥\n",
       "⎢────────────────         0          ─────────────────          0          c₁⎥\n",
       "⎢       21                                   21                              ⎥\n",
       "⎢                                                                            ⎥\n",
       "⎢       c₂                0                 c₂                  0          c₂⎥\n",
       "⎢                                                                            ⎥\n",
       "⎢                      2                                    2                ⎥\n",
       "⎢                  c₄⋅l ⋅(1 + 3⋅√5)                     c₄⋅l ⋅(-3⋅√5 + 1)    ⎥\n",
       "⎢       0          ────────────────          0          ─────────────────  c₃⎥\n",
       "⎢                         33                                    33           ⎥\n",
       "⎢                                                                            ⎥\n",
       "⎣       0                 c₄                 0                 c₄          c₄⎦"
      ]
     },
     "execution_count": 29,
     "metadata": {},
     "output_type": "execute_result"
    }
   ],
   "source": [
    "CScol = c[:, :]\n",
    "CS = Matrix([CScol])\n",
    "for a in range(len(c)):\n",
    "    C_val = solve(EC.col(a), c)\n",
    "    for b in range(len(c)):\n",
    "        if sympify('c'+str(b+1)) in C_val:\n",
    "            CScol[b] = C_val[sympify('c'+str(b+1))]\n",
    "        else:\n",
    "            CScol[b] = sympify('c'+str(b+1))\n",
    "    CS = CS.col_insert(a, CScol)\n",
    "simplify(CS)"
   ]
  },
  {
   "cell_type": "code",
   "execution_count": 30,
   "metadata": {
    "collapsed": false
   },
   "outputs": [
    {
     "data": {
      "text/latex": [
       "$$\\left[\\begin{matrix}\\frac{c_{2} l^{2}}{3} + \\frac{\\sqrt{133} c_{2}}{21} l^{2} & c_{2} & 0 & 0\\\\0 & 0 & \\frac{c_{4} l^{2}}{33} + \\frac{\\sqrt{5} c_{4}}{11} l^{2} & c_{4}\\\\- \\frac{\\sqrt{133} c_{2}}{21} l^{2} + \\frac{c_{2} l^{2}}{3} & c_{2} & 0 & 0\\\\0 & 0 & - \\frac{\\sqrt{5} c_{4}}{11} l^{2} + \\frac{c_{4} l^{2}}{33} & c_{4}\\\\c_{1} & c_{2} & c_{3} & c_{4}\\end{matrix}\\right]$$"
      ],
      "text/plain": [
       "⎡     2            2                             ⎤\n",
       "⎢ c₂⋅l    √133⋅c₂⋅l                              ⎥\n",
       "⎢ ───── + ──────────   c₂          0           0 ⎥\n",
       "⎢   3         21                                 ⎥\n",
       "⎢                                                ⎥\n",
       "⎢                               2          2     ⎥\n",
       "⎢                           c₄⋅l    √5⋅c₄⋅l      ⎥\n",
       "⎢         0            0    ───── + ────────   c₄⎥\n",
       "⎢                             33       11        ⎥\n",
       "⎢                                                ⎥\n",
       "⎢           2       2                            ⎥\n",
       "⎢  √133⋅c₂⋅l    c₂⋅l                             ⎥\n",
       "⎢- ────────── + ─────  c₂          0           0 ⎥\n",
       "⎢      21         3                              ⎥\n",
       "⎢                                                ⎥\n",
       "⎢                                   2       2    ⎥\n",
       "⎢                            √5⋅c₄⋅l    c₄⋅l     ⎥\n",
       "⎢         0            0   - ──────── + ─────  c₄⎥\n",
       "⎢                               11        33     ⎥\n",
       "⎢                                                ⎥\n",
       "⎣         c₁           c₂          c₃          c₄⎦"
      ]
     },
     "execution_count": 30,
     "metadata": {},
     "output_type": "execute_result"
    }
   ],
   "source": [
    "CS.T"
   ]
  },
  {
   "cell_type": "code",
   "execution_count": 33,
   "metadata": {
    "collapsed": false
   },
   "outputs": [
    {
     "data": {
      "text/latex": [
       "$$\\left[\\begin{matrix}x \\left(l - x\\right)\\\\x^{2} \\left(l - x\\right)^{2}\\\\x \\left(\\frac{l}{2} - x\\right) \\left(l - x\\right)\\\\x^{2} \\left(\\frac{l}{2} - x\\right) \\left(l - x\\right)^{2}\\end{matrix}\\right]$$"
      ],
      "text/plain": [
       "⎡     x⋅(l - x)     ⎤\n",
       "⎢                   ⎥\n",
       "⎢     2        2    ⎥\n",
       "⎢    x ⋅(l - x)     ⎥\n",
       "⎢                   ⎥\n",
       "⎢   ⎛l    ⎞         ⎥\n",
       "⎢ x⋅⎜─ - x⎟⋅(l - x) ⎥\n",
       "⎢   ⎝2    ⎠         ⎥\n",
       "⎢                   ⎥\n",
       "⎢ 2 ⎛l    ⎞        2⎥\n",
       "⎢x ⋅⎜─ - x⎟⋅(l - x) ⎥\n",
       "⎣   ⎝2    ⎠         ⎦"
      ]
     },
     "execution_count": 33,
     "metadata": {},
     "output_type": "execute_result"
    }
   ],
   "source": [
    "fvar = Matrix(fvar)\n",
    "fvar"
   ]
  },
  {
   "cell_type": "code",
   "execution_count": 34,
   "metadata": {
    "collapsed": false
   },
   "outputs": [
    {
     "data": {
      "text/latex": [
       "$$\\left[\\begin{matrix}c_{2} x^{2} \\left(l - x\\right)^{2} + x \\left(l - x\\right) \\left(\\frac{c_{2} l^{2}}{3} + \\frac{\\sqrt{133} c_{2}}{21} l^{2}\\right)\\\\c_{4} x^{2} \\left(\\frac{l}{2} - x\\right) \\left(l - x\\right)^{2} + x \\left(\\frac{l}{2} - x\\right) \\left(l - x\\right) \\left(\\frac{c_{4} l^{2}}{33} + \\frac{\\sqrt{5} c_{4}}{11} l^{2}\\right)\\\\c_{2} x^{2} \\left(l - x\\right)^{2} + x \\left(l - x\\right) \\left(- \\frac{\\sqrt{133} c_{2}}{21} l^{2} + \\frac{c_{2} l^{2}}{3}\\right)\\\\c_{4} x^{2} \\left(\\frac{l}{2} - x\\right) \\left(l - x\\right)^{2} + x \\left(\\frac{l}{2} - x\\right) \\left(l - x\\right) \\left(- \\frac{\\sqrt{5} c_{4}}{11} l^{2} + \\frac{c_{4} l^{2}}{33}\\right)\\\\c_{1} x \\left(l - x\\right) + c_{2} x^{2} \\left(l - x\\right)^{2} + c_{3} x \\left(\\frac{l}{2} - x\\right) \\left(l - x\\right) + c_{4} x^{2} \\left(\\frac{l}{2} - x\\right) \\left(l - x\\right)^{2}\\end{matrix}\\right]$$"
      ],
      "text/plain": [
       "⎡                                          ⎛    2            2⎞               \n",
       "⎢                   2        2             ⎜c₂⋅l    √133⋅c₂⋅l ⎟               \n",
       "⎢               c₂⋅x ⋅(l - x)  + x⋅(l - x)⋅⎜───── + ──────────⎟               \n",
       "⎢                                          ⎝  3         21    ⎠               \n",
       "⎢                                                                             \n",
       "⎢                                                   ⎛    2          2⎞        \n",
       "⎢            2 ⎛l    ⎞        2     ⎛l    ⎞         ⎜c₄⋅l    √5⋅c₄⋅l ⎟        \n",
       "⎢        c₄⋅x ⋅⎜─ - x⎟⋅(l - x)  + x⋅⎜─ - x⎟⋅(l - x)⋅⎜───── + ────────⎟        \n",
       "⎢              ⎝2    ⎠              ⎝2    ⎠         ⎝  33       11   ⎠        \n",
       "⎢                                                                             \n",
       "⎢                                         ⎛           2       2⎞              \n",
       "⎢                  2        2             ⎜  √133⋅c₂⋅l    c₂⋅l ⎟              \n",
       "⎢              c₂⋅x ⋅(l - x)  + x⋅(l - x)⋅⎜- ────────── + ─────⎟              \n",
       "⎢                                         ⎝      21         3  ⎠              \n",
       "⎢                                                                             \n",
       "⎢                                                  ⎛         2       2⎞       \n",
       "⎢           2 ⎛l    ⎞        2     ⎛l    ⎞         ⎜  √5⋅c₄⋅l    c₄⋅l ⎟       \n",
       "⎢       c₄⋅x ⋅⎜─ - x⎟⋅(l - x)  + x⋅⎜─ - x⎟⋅(l - x)⋅⎜- ──────── + ─────⎟       \n",
       "⎢             ⎝2    ⎠              ⎝2    ⎠         ⎝     11        33 ⎠       \n",
       "⎢                                                                             \n",
       "⎢                   2        2        ⎛l    ⎞               2 ⎛l    ⎞        2\n",
       "⎢c₁⋅x⋅(l - x) + c₂⋅x ⋅(l - x)  + c₃⋅x⋅⎜─ - x⎟⋅(l - x) + c₄⋅x ⋅⎜─ - x⎟⋅(l - x) \n",
       "⎣                                     ⎝2    ⎠                 ⎝2    ⎠         \n",
       "\n",
       "⎤\n",
       "⎥\n",
       "⎥\n",
       "⎥\n",
       "⎥\n",
       "⎥\n",
       "⎥\n",
       "⎥\n",
       "⎥\n",
       "⎥\n",
       "⎥\n",
       "⎥\n",
       "⎥\n",
       "⎥\n",
       "⎥\n",
       "⎥\n",
       "⎥\n",
       "⎥\n",
       "⎥\n",
       "⎥\n",
       "⎥\n",
       "⎥\n",
       "⎦"
      ]
     },
     "execution_count": 34,
     "metadata": {},
     "output_type": "execute_result"
    }
   ],
   "source": [
    "PHIn = CS.T*fvar\n",
    "PHIn"
   ]
  },
  {
   "cell_type": "code",
   "execution_count": 35,
   "metadata": {
    "collapsed": false
   },
   "outputs": [
    {
     "data": {
      "text/latex": [
       "$$\\left[\\begin{matrix}\\left(c_{2} x^{2} \\left(l - x\\right)^{2} + x \\left(l - x\\right) \\left(\\frac{c_{2} l^{2}}{3} + \\frac{\\sqrt{133} c_{2}}{21} l^{2}\\right)\\right)^{2}\\\\\\left(c_{4} x^{2} \\left(\\frac{l}{2} - x\\right) \\left(l - x\\right)^{2} + x \\left(\\frac{l}{2} - x\\right) \\left(l - x\\right) \\left(\\frac{c_{4} l^{2}}{33} + \\frac{\\sqrt{5} c_{4}}{11} l^{2}\\right)\\right)^{2}\\\\\\left(c_{2} x^{2} \\left(l - x\\right)^{2} + x \\left(l - x\\right) \\left(- \\frac{\\sqrt{133} c_{2}}{21} l^{2} + \\frac{c_{2} l^{2}}{3}\\right)\\right)^{2}\\\\\\left(c_{4} x^{2} \\left(\\frac{l}{2} - x\\right) \\left(l - x\\right)^{2} + x \\left(\\frac{l}{2} - x\\right) \\left(l - x\\right) \\left(- \\frac{\\sqrt{5} c_{4}}{11} l^{2} + \\frac{c_{4} l^{2}}{33}\\right)\\right)^{2}\\\\c_{1} x \\left(l - x\\right) + c_{2} x^{2} \\left(l - x\\right)^{2} + c_{3} x \\left(\\frac{l}{2} - x\\right) \\left(l - x\\right) + c_{4} x^{2} \\left(\\frac{l}{2} - x\\right) \\left(l - x\\right)^{2}\\end{matrix}\\right]$$"
      ],
      "text/plain": [
       "⎡                                                              2              \n",
       "⎢             ⎛                           ⎛    2            2⎞⎞               \n",
       "⎢             ⎜    2        2             ⎜c₂⋅l    √133⋅c₂⋅l ⎟⎟               \n",
       "⎢             ⎜c₂⋅x ⋅(l - x)  + x⋅(l - x)⋅⎜───── + ──────────⎟⎟               \n",
       "⎢             ⎝                           ⎝  3         21    ⎠⎠               \n",
       "⎢                                                                             \n",
       "⎢                                                                     2       \n",
       "⎢      ⎛                                           ⎛    2          2⎞⎞        \n",
       "⎢      ⎜    2 ⎛l    ⎞        2     ⎛l    ⎞         ⎜c₄⋅l    √5⋅c₄⋅l ⎟⎟        \n",
       "⎢      ⎜c₄⋅x ⋅⎜─ - x⎟⋅(l - x)  + x⋅⎜─ - x⎟⋅(l - x)⋅⎜───── + ────────⎟⎟        \n",
       "⎢      ⎝      ⎝2    ⎠              ⎝2    ⎠         ⎝  33       11   ⎠⎠        \n",
       "⎢                                                                             \n",
       "⎢                                                               2             \n",
       "⎢            ⎛                           ⎛           2       2⎞⎞              \n",
       "⎢            ⎜    2        2             ⎜  √133⋅c₂⋅l    c₂⋅l ⎟⎟              \n",
       "⎢            ⎜c₂⋅x ⋅(l - x)  + x⋅(l - x)⋅⎜- ────────── + ─────⎟⎟              \n",
       "⎢            ⎝                           ⎝      21         3  ⎠⎠              \n",
       "⎢                                                                             \n",
       "⎢                                                                      2      \n",
       "⎢     ⎛                                           ⎛         2       2⎞⎞       \n",
       "⎢     ⎜    2 ⎛l    ⎞        2     ⎛l    ⎞         ⎜  √5⋅c₄⋅l    c₄⋅l ⎟⎟       \n",
       "⎢     ⎜c₄⋅x ⋅⎜─ - x⎟⋅(l - x)  + x⋅⎜─ - x⎟⋅(l - x)⋅⎜- ──────── + ─────⎟⎟       \n",
       "⎢     ⎝      ⎝2    ⎠              ⎝2    ⎠         ⎝     11        33 ⎠⎠       \n",
       "⎢                                                                             \n",
       "⎢                   2        2        ⎛l    ⎞               2 ⎛l    ⎞        2\n",
       "⎢c₁⋅x⋅(l - x) + c₂⋅x ⋅(l - x)  + c₃⋅x⋅⎜─ - x⎟⋅(l - x) + c₄⋅x ⋅⎜─ - x⎟⋅(l - x) \n",
       "⎣                                     ⎝2    ⎠                 ⎝2    ⎠         \n",
       "\n",
       "⎤\n",
       "⎥\n",
       "⎥\n",
       "⎥\n",
       "⎥\n",
       "⎥\n",
       "⎥\n",
       "⎥\n",
       "⎥\n",
       "⎥\n",
       "⎥\n",
       "⎥\n",
       "⎥\n",
       "⎥\n",
       "⎥\n",
       "⎥\n",
       "⎥\n",
       "⎥\n",
       "⎥\n",
       "⎥\n",
       "⎥\n",
       "⎥\n",
       "⎥\n",
       "⎥\n",
       "⎥\n",
       "⎥\n",
       "⎦"
      ]
     },
     "execution_count": 35,
     "metadata": {},
     "output_type": "execute_result"
    }
   ],
   "source": [
    "for i in range(4):\n",
    "    PHIn[i] = PHIn[i]**2\n",
    "PHIn"
   ]
  },
  {
   "cell_type": "code",
   "execution_count": 36,
   "metadata": {
    "collapsed": false
   },
   "outputs": [
    {
     "data": {
      "text/latex": [
       "$$\\left[\\begin{matrix}- \\frac{7 c_{2}^{2}}{18} l^{9} + l^{7} \\left(- \\frac{2 \\sqrt{133}}{147} c_{2}^{2} l^{2} + \\frac{16 c_{2}^{2}}{21} l^{2}\\right) + l^{6} \\left(- \\frac{c_{2}^{2} l^{3}}{3} + \\frac{\\sqrt{133} c_{2}^{2}}{21} l^{3}\\right) + l^{5} \\left(- \\frac{16 \\sqrt{133}}{315} c_{2}^{2} l^{4} - \\frac{37 c_{2}^{2}}{315} l^{4}\\right) + l^{4} \\left(- \\frac{5 c_{2}^{2}}{126} l^{5} + \\frac{\\sqrt{133} c_{2}^{2}}{126} l^{5}\\right) + l^{3} \\left(\\frac{2 \\sqrt{133}}{189} c_{2}^{2} l^{6} + \\frac{26 c_{2}^{2}}{189} l^{6}\\right)\\\\- \\frac{9 c_{4}^{2}}{22} l^{11} + l^{9} \\left(- \\frac{2 \\sqrt{5}}{99} c_{4}^{2} l^{2} + \\frac{1345 c_{4}^{2}}{1188} l^{2}\\right) + l^{8} \\left(- \\frac{355 c_{4}^{2}}{264} l^{3} + \\frac{\\sqrt{5} c_{4}^{2}}{11} l^{3}\\right) + l^{7} \\left(- \\frac{821 \\sqrt{5}}{5082} c_{4}^{2} l^{4} + \\frac{6712 c_{4}^{2}}{7623} l^{4}\\right) + l^{6} \\left(- \\frac{445 c_{4}^{2}}{1452} l^{5} + \\frac{205 \\sqrt{5}}{1452} c_{4}^{2} l^{5}\\right) + l^{5} \\left(- \\frac{109 \\sqrt{5}}{1815} c_{4}^{2} l^{6} + \\frac{245 c_{4}^{2}}{4356} l^{6}\\right) + l^{4} \\left(- \\frac{35 c_{4}^{2}}{2904} l^{7} + \\frac{9 \\sqrt{5}}{968} c_{4}^{2} l^{7}\\right) + l^{3} \\left(\\frac{\\sqrt{5} c_{4}^{2}}{2178} l^{8} + \\frac{23 c_{4}^{2}}{6534} l^{8}\\right)\\\\- \\frac{7 c_{2}^{2}}{18} l^{9} + l^{7} \\left(\\frac{2 \\sqrt{133}}{147} c_{2}^{2} l^{2} + \\frac{16 c_{2}^{2}}{21} l^{2}\\right) + l^{6} \\left(- \\frac{\\sqrt{133} c_{2}^{2}}{21} l^{3} - \\frac{c_{2}^{2} l^{3}}{3}\\right) + l^{5} \\left(- \\frac{37 c_{2}^{2}}{315} l^{4} + \\frac{16 \\sqrt{133}}{315} c_{2}^{2} l^{4}\\right) + l^{4} \\left(- \\frac{\\sqrt{133} c_{2}^{2}}{126} l^{5} - \\frac{5 c_{2}^{2}}{126} l^{5}\\right) + l^{3} \\left(- \\frac{2 \\sqrt{133}}{189} c_{2}^{2} l^{6} + \\frac{26 c_{2}^{2}}{189} l^{6}\\right)\\\\- \\frac{9 c_{4}^{2}}{22} l^{11} + l^{9} \\left(\\frac{2 \\sqrt{5}}{99} c_{4}^{2} l^{2} + \\frac{1345 c_{4}^{2}}{1188} l^{2}\\right) + l^{8} \\left(- \\frac{355 c_{4}^{2}}{264} l^{3} - \\frac{\\sqrt{5} c_{4}^{2}}{11} l^{3}\\right) + l^{7} \\left(\\frac{821 \\sqrt{5}}{5082} c_{4}^{2} l^{4} + \\frac{6712 c_{4}^{2}}{7623} l^{4}\\right) + l^{6} \\left(- \\frac{205 \\sqrt{5}}{1452} c_{4}^{2} l^{5} - \\frac{445 c_{4}^{2}}{1452} l^{5}\\right) + l^{5} \\left(\\frac{245 c_{4}^{2}}{4356} l^{6} + \\frac{109 \\sqrt{5}}{1815} c_{4}^{2} l^{6}\\right) + l^{4} \\left(- \\frac{9 \\sqrt{5}}{968} c_{4}^{2} l^{7} - \\frac{35 c_{4}^{2}}{2904} l^{7}\\right) + l^{3} \\left(- \\frac{\\sqrt{5} c_{4}^{2}}{2178} l^{8} + \\frac{23 c_{4}^{2}}{6534} l^{8}\\right)\\\\- \\frac{c_{4} l^{6}}{6} + l^{5} \\left(\\frac{c_{2}}{5} + \\frac{c_{4} l}{2}\\right) + l^{4} \\left(- \\frac{c_{2} l}{2} + \\frac{c_{3}}{4} - \\frac{c_{4} l^{2}}{2}\\right) + l^{3} \\left(- \\frac{c_{1}}{3} + \\frac{c_{2} l^{2}}{3} - \\frac{c_{3} l}{2} + \\frac{c_{4} l^{3}}{6}\\right) + l^{2} \\left(\\frac{c_{1} l}{2} + \\frac{c_{3} l^{2}}{4}\\right)\\end{matrix}\\right]$$"
      ],
      "text/plain": [
       "⎡                                          2  9      ⎛           2  2        2\n",
       "⎢                                      7⋅c₂ ⋅l     7 ⎜  2⋅√133⋅c₂ ⋅l    16⋅c₂ \n",
       "⎢                                    - ──────── + l ⋅⎜- ───────────── + ──────\n",
       "⎢                                         18         ⎝       147            21\n",
       "⎢                                                                             \n",
       "⎢      2  11      ⎛         2  2          2  2⎞      ⎛        2  3        2  3\n",
       "⎢  9⋅c₄ ⋅l      9 ⎜  2⋅√5⋅c₄ ⋅l    1345⋅c₄ ⋅l ⎟    8 ⎜  355⋅c₄ ⋅l    √5⋅c₄ ⋅l \n",
       "⎢- ───────── + l ⋅⎜- ─────────── + ───────────⎟ + l ⋅⎜- ────────── + ─────────\n",
       "⎢      22         ⎝       99           1188   ⎠      ⎝     264           11   \n",
       "⎢                                                                             \n",
       "⎢                                          2  9      ⎛         2  2        2  \n",
       "⎢                                      7⋅c₂ ⋅l     7 ⎜2⋅√133⋅c₂ ⋅l    16⋅c₂ ⋅l\n",
       "⎢                                    - ──────── + l ⋅⎜───────────── + ────────\n",
       "⎢                                         18         ⎝     147            21  \n",
       "⎢                                                                             \n",
       "⎢        2  11      ⎛       2  2          2  2⎞      ⎛        2  3        2  3\n",
       "⎢    9⋅c₄ ⋅l      9 ⎜2⋅√5⋅c₄ ⋅l    1345⋅c₄ ⋅l ⎟    8 ⎜  355⋅c₄ ⋅l    √5⋅c₄ ⋅l \n",
       "⎢  - ───────── + l ⋅⎜─────────── + ───────────⎟ + l ⋅⎜- ────────── - ─────────\n",
       "⎢        22         ⎝     99           1188   ⎠      ⎝     264           11   \n",
       "⎢                                                                             \n",
       "⎢                                                                             \n",
       "⎢                                                                         c₄⋅l\n",
       "⎢                                                                       - ────\n",
       "⎣                                                                           6 \n",
       "\n",
       "  2⎞      ⎛    2  3          2  3⎞      ⎛            2  4        2  4⎞      ⎛ \n",
       "⋅l ⎟    6 ⎜  c₂ ⋅l    √133⋅c₂ ⋅l ⎟    5 ⎜  16⋅√133⋅c₂ ⋅l    37⋅c₂ ⋅l ⎟    4 ⎜ \n",
       "───⎟ + l ⋅⎜- ────── + ───────────⎟ + l ⋅⎜- ────────────── - ─────────⎟ + l ⋅⎜-\n",
       "   ⎠      ⎝    3           21    ⎠      ⎝       315            315   ⎠      ⎝ \n",
       "                                                                              \n",
       "⎞      ⎛           2  4          2  4⎞      ⎛        2  5            2  5⎞    \n",
       "⎟    7 ⎜  821⋅√5⋅c₄ ⋅l    6712⋅c₄ ⋅l ⎟    6 ⎜  445⋅c₄ ⋅l    205⋅√5⋅c₄ ⋅l ⎟    \n",
       "⎟ + l ⋅⎜- ───────────── + ───────────⎟ + l ⋅⎜- ────────── + ─────────────⎟ + l\n",
       "⎠      ⎝       5082           7623   ⎠      ⎝     1452           1452    ⎠    \n",
       "                                                                              \n",
       "2⎞      ⎛         2  3     2  3⎞      ⎛       2  4             2  4⎞      ⎛   \n",
       " ⎟    6 ⎜  √133⋅c₂ ⋅l    c₂ ⋅l ⎟    5 ⎜  37⋅c₂ ⋅l    16⋅√133⋅c₂ ⋅l ⎟    4 ⎜  √\n",
       "─⎟ + l ⋅⎜- ─────────── - ──────⎟ + l ⋅⎜- ───────── + ──────────────⎟ + l ⋅⎜- ─\n",
       " ⎠      ⎝       21         3   ⎠      ⎝     315           315      ⎠      ⎝   \n",
       "                                                                              \n",
       "⎞      ⎛         2  4          2  4⎞      ⎛           2  5         2  5⎞      \n",
       "⎟    7 ⎜821⋅√5⋅c₄ ⋅l    6712⋅c₄ ⋅l ⎟    6 ⎜  205⋅√5⋅c₄ ⋅l    445⋅c₄ ⋅l ⎟    5 \n",
       "⎟ + l ⋅⎜───────────── + ───────────⎟ + l ⋅⎜- ───────────── - ──────────⎟ + l ⋅\n",
       "⎠      ⎝     5082           7623   ⎠      ⎝       1452          1452   ⎠      \n",
       "                                                                              \n",
       "6                       ⎛                  2⎞      ⎛           2              \n",
       "     5 ⎛c₂   c₄⋅l⎞    4 ⎜  c₂⋅l   c₃   c₄⋅l ⎟    3 ⎜  c₁   c₂⋅l    c₃⋅l   c₄⋅l\n",
       "─ + l ⋅⎜── + ────⎟ + l ⋅⎜- ──── + ── - ─────⎟ + l ⋅⎜- ── + ───── - ──── + ────\n",
       "       ⎝5     2  ⎠      ⎝   2     4      2  ⎠      ⎝  3      3      2       6 \n",
       "\n",
       "     2  5          2  5⎞      ⎛         2  6        2  6⎞                     \n",
       " 5⋅c₂ ⋅l    √133⋅c₂ ⋅l ⎟    3 ⎜2⋅√133⋅c₂ ⋅l    26⋅c₂ ⋅l ⎟                     \n",
       " ──────── + ───────────⎟ + l ⋅⎜───────────── + ─────────⎟                     \n",
       "   126          126    ⎠      ⎝     189           189   ⎠                     \n",
       "                                                                              \n",
       "  ⎛           2  6         2  6⎞      ⎛       2  7          2  7⎞      ⎛     2\n",
       "5 ⎜  109⋅√5⋅c₄ ⋅l    245⋅c₄ ⋅l ⎟    4 ⎜  35⋅c₄ ⋅l    9⋅√5⋅c₄ ⋅l ⎟    3 ⎜√5⋅c₄ \n",
       " ⋅⎜- ───────────── + ──────────⎟ + l ⋅⎜- ───────── + ───────────⎟ + l ⋅⎜──────\n",
       "  ⎝       1815          4356   ⎠      ⎝     2904         968    ⎠      ⎝   217\n",
       "                                                                              \n",
       "      2  5       2  5⎞      ⎛           2  6        2  6⎞                     \n",
       "133⋅c₂ ⋅l    5⋅c₂ ⋅l ⎟    3 ⎜  2⋅√133⋅c₂ ⋅l    26⋅c₂ ⋅l ⎟                     \n",
       "────────── - ────────⎟ + l ⋅⎜- ───────────── + ─────────⎟                     \n",
       "   126         126   ⎠      ⎝       189           189   ⎠                     \n",
       "                                                                              \n",
       "⎛      2  6            2  6⎞      ⎛         2  7        2  7⎞      ⎛       2  \n",
       "⎜245⋅c₄ ⋅l    109⋅√5⋅c₄ ⋅l ⎟    4 ⎜  9⋅√5⋅c₄ ⋅l    35⋅c₄ ⋅l ⎟    3 ⎜  √5⋅c₄ ⋅l\n",
       "⎜────────── + ─────────────⎟ + l ⋅⎜- ─────────── - ─────────⎟ + l ⋅⎜- ────────\n",
       "⎝   4356           1815    ⎠      ⎝      968          2904  ⎠      ⎝     2178 \n",
       "                                                                              \n",
       "3⎞      ⎛           2⎞                                                        \n",
       " ⎟    2 ⎜c₁⋅l   c₃⋅l ⎟                                                        \n",
       "─⎟ + l ⋅⎜──── + ─────⎟                                                        \n",
       " ⎠      ⎝ 2       4  ⎠                                                        \n",
       "\n",
       "                ⎤\n",
       "                ⎥\n",
       "                ⎥\n",
       "                ⎥\n",
       "                ⎥\n",
       "  8        2  8⎞⎥\n",
       "⋅l    23⋅c₄ ⋅l ⎟⎥\n",
       "─── + ─────────⎟⎥\n",
       "8        6534  ⎠⎥\n",
       "                ⎥\n",
       "                ⎥\n",
       "                ⎥\n",
       "                ⎥\n",
       "                ⎥\n",
       "                ⎥\n",
       "8        2  8⎞  ⎥\n",
       "    23⋅c₄ ⋅l ⎟  ⎥\n",
       "─ + ─────────⎟  ⎥\n",
       "       6534  ⎠  ⎥\n",
       "                ⎥\n",
       "                ⎥\n",
       "                ⎥\n",
       "                ⎥\n",
       "                ⎦"
      ]
     },
     "execution_count": 36,
     "metadata": {},
     "output_type": "execute_result"
    }
   ],
   "source": [
    "\n",
    "PHISI = integrate(PHIn, (x, 0, l))\n",
    "PHISI"
   ]
  },
  {
   "cell_type": "code",
   "execution_count": 37,
   "metadata": {
    "collapsed": false
   },
   "outputs": [
    {
     "data": {
      "text/latex": [
       "$$- \\frac{7 c_{2}^{2}}{18} l^{9} + l^{7} \\left(- \\frac{2 \\sqrt{133}}{147} c_{2}^{2} l^{2} + \\frac{16 c_{2}^{2}}{21} l^{2}\\right) + l^{6} \\left(- \\frac{c_{2}^{2} l^{3}}{3} + \\frac{\\sqrt{133} c_{2}^{2}}{21} l^{3}\\right) + l^{5} \\left(- \\frac{16 \\sqrt{133}}{315} c_{2}^{2} l^{4} - \\frac{37 c_{2}^{2}}{315} l^{4}\\right) + l^{4} \\left(- \\frac{5 c_{2}^{2}}{126} l^{5} + \\frac{\\sqrt{133} c_{2}^{2}}{126} l^{5}\\right) + l^{3} \\left(\\frac{2 \\sqrt{133}}{189} c_{2}^{2} l^{6} + \\frac{26 c_{2}^{2}}{189} l^{6}\\right) - 1$$"
      ],
      "text/plain": [
       "      2  9      ⎛           2  2        2  2⎞      ⎛    2  3          2  3⎞   \n",
       "  7⋅c₂ ⋅l     7 ⎜  2⋅√133⋅c₂ ⋅l    16⋅c₂ ⋅l ⎟    6 ⎜  c₂ ⋅l    √133⋅c₂ ⋅l ⎟   \n",
       "- ──────── + l ⋅⎜- ───────────── + ─────────⎟ + l ⋅⎜- ────── + ───────────⎟ + \n",
       "     18         ⎝       147            21   ⎠      ⎝    3           21    ⎠   \n",
       "\n",
       "   ⎛            2  4        2  4⎞      ⎛      2  5          2  5⎞      ⎛      \n",
       " 5 ⎜  16⋅√133⋅c₂ ⋅l    37⋅c₂ ⋅l ⎟    4 ⎜  5⋅c₂ ⋅l    √133⋅c₂ ⋅l ⎟    3 ⎜2⋅√133\n",
       "l ⋅⎜- ────────────── - ─────────⎟ + l ⋅⎜- ──────── + ───────────⎟ + l ⋅⎜──────\n",
       "   ⎝       315            315   ⎠      ⎝    126          126    ⎠      ⎝     1\n",
       "\n",
       "   2  6        2  6⎞    \n",
       "⋅c₂ ⋅l    26⋅c₂ ⋅l ⎟    \n",
       "─────── + ─────────⎟ - 1\n",
       "89           189   ⎠    "
      ]
     },
     "execution_count": 37,
     "metadata": {},
     "output_type": "execute_result"
    }
   ],
   "source": [
    "c2 = PHISI[0]-1 \n",
    "c2"
   ]
  },
  {
   "cell_type": "code",
   "execution_count": 38,
   "metadata": {
    "collapsed": false
   },
   "outputs": [
    {
     "data": {
      "text/latex": [
       "$$\\left [ - \\frac{21 \\sqrt{30} \\sqrt{\\frac{1}{l^{9}}}}{\\sqrt{23 \\sqrt{133} + 266}}, \\quad \\frac{21 \\sqrt{30} \\sqrt{\\frac{1}{l^{9}}}}{\\sqrt{23 \\sqrt{133} + 266}}\\right ]$$"
      ],
      "text/plain": [
       "⎡             ____                ____⎤\n",
       "⎢            ╱ 1                 ╱ 1  ⎥\n",
       "⎢-21⋅√30⋅   ╱  ──     21⋅√30⋅   ╱  ── ⎥\n",
       "⎢          ╱    9              ╱    9 ⎥\n",
       "⎢        ╲╱    l             ╲╱    l  ⎥\n",
       "⎢──────────────────, ─────────────────⎥\n",
       "⎢  _______________     _______________⎥\n",
       "⎣╲╱ 23⋅√133 + 266    ╲╱ 23⋅√133 + 266 ⎦"
      ]
     },
     "execution_count": 38,
     "metadata": {},
     "output_type": "execute_result"
    }
   ],
   "source": [
    "solve(c2, c[1])"
   ]
  },
  {
   "cell_type": "code",
   "execution_count": 39,
   "metadata": {
    "collapsed": false
   },
   "outputs": [
    {
     "data": {
      "text/latex": [
       "$$- \\frac{21 \\sqrt{30} \\sqrt{\\frac{1}{l^{9}}}}{\\sqrt{23 \\sqrt{133} + 266}}$$"
      ],
      "text/plain": [
       "             ____ \n",
       "            ╱ 1   \n",
       "-21⋅√30⋅   ╱  ──  \n",
       "          ╱    9  \n",
       "        ╲╱    l   \n",
       "──────────────────\n",
       "  _______________ \n",
       "╲╱ 23⋅√133 + 266  "
      ]
     },
     "execution_count": 39,
     "metadata": {},
     "output_type": "execute_result"
    }
   ],
   "source": [
    "c[1] = solve(c2, c[1])\n",
    "c[1]"
   ]
  },
  {
   "cell_type": "code",
   "execution_count": 40,
   "metadata": {
    "collapsed": false
   },
   "outputs": [
    {
     "data": {
      "text/latex": [
       "$$- \\frac{9 c_{4}^{2}}{22} l^{11} + l^{9} \\left(\\frac{2 \\sqrt{5}}{99} c_{4}^{2} l^{2} + \\frac{1345 c_{4}^{2}}{1188} l^{2}\\right) + l^{8} \\left(- \\frac{355 c_{4}^{2}}{264} l^{3} - \\frac{\\sqrt{5} c_{4}^{2}}{11} l^{3}\\right) + l^{7} \\left(\\frac{821 \\sqrt{5}}{5082} c_{4}^{2} l^{4} + \\frac{6712 c_{4}^{2}}{7623} l^{4}\\right) + l^{6} \\left(- \\frac{205 \\sqrt{5}}{1452} c_{4}^{2} l^{5} - \\frac{445 c_{4}^{2}}{1452} l^{5}\\right) + l^{5} \\left(\\frac{245 c_{4}^{2}}{4356} l^{6} + \\frac{109 \\sqrt{5}}{1815} c_{4}^{2} l^{6}\\right) + l^{4} \\left(- \\frac{9 \\sqrt{5}}{968} c_{4}^{2} l^{7} - \\frac{35 c_{4}^{2}}{2904} l^{7}\\right) + l^{3} \\left(- \\frac{\\sqrt{5} c_{4}^{2}}{2178} l^{8} + \\frac{23 c_{4}^{2}}{6534} l^{8}\\right) - 1$$"
      ],
      "text/plain": [
       "      2  11      ⎛       2  2          2  2⎞      ⎛        2  3        2  3⎞  \n",
       "  9⋅c₄ ⋅l      9 ⎜2⋅√5⋅c₄ ⋅l    1345⋅c₄ ⋅l ⎟    8 ⎜  355⋅c₄ ⋅l    √5⋅c₄ ⋅l ⎟  \n",
       "- ───────── + l ⋅⎜─────────── + ───────────⎟ + l ⋅⎜- ────────── - ─────────⎟ +\n",
       "      22         ⎝     99           1188   ⎠      ⎝     264           11   ⎠  \n",
       "\n",
       "    ⎛         2  4          2  4⎞      ⎛           2  5         2  5⎞      ⎛  \n",
       "  7 ⎜821⋅√5⋅c₄ ⋅l    6712⋅c₄ ⋅l ⎟    6 ⎜  205⋅√5⋅c₄ ⋅l    445⋅c₄ ⋅l ⎟    5 ⎜24\n",
       " l ⋅⎜───────────── + ───────────⎟ + l ⋅⎜- ───────────── - ──────────⎟ + l ⋅⎜──\n",
       "    ⎝     5082           7623   ⎠      ⎝       1452          1452   ⎠      ⎝  \n",
       "\n",
       "    2  6            2  6⎞      ⎛         2  7        2  7⎞      ⎛       2  8  \n",
       "5⋅c₄ ⋅l    109⋅√5⋅c₄ ⋅l ⎟    4 ⎜  9⋅√5⋅c₄ ⋅l    35⋅c₄ ⋅l ⎟    3 ⎜  √5⋅c₄ ⋅l   \n",
       "──────── + ─────────────⎟ + l ⋅⎜- ─────────── - ─────────⎟ + l ⋅⎜- ───────── +\n",
       " 4356           1815    ⎠      ⎝      968          2904  ⎠      ⎝     2178    \n",
       "\n",
       "      2  8⎞    \n",
       " 23⋅c₄ ⋅l ⎟    \n",
       " ─────────⎟ - 1\n",
       "    6534  ⎠    "
      ]
     },
     "execution_count": 40,
     "metadata": {},
     "output_type": "execute_result"
    }
   ],
   "source": [
    "c4 = PHISI[3]-1\n",
    "c4"
   ]
  },
  {
   "cell_type": "code",
   "execution_count": 41,
   "metadata": {
    "collapsed": false
   },
   "outputs": [
    {
     "data": {
      "text/latex": [
       "$$\\left [ - \\frac{66 \\sqrt{70} \\sqrt{\\frac{1}{l^{11}}}}{\\sqrt{- 13 \\sqrt{5} + 30}}, \\quad \\frac{66 \\sqrt{70} \\sqrt{\\frac{1}{l^{11}}}}{\\sqrt{- 13 \\sqrt{5} + 30}}\\right ]$$"
      ],
      "text/plain": [
       "⎡             _____               _____⎤\n",
       "⎢            ╱  1                ╱  1  ⎥\n",
       "⎢-66⋅√70⋅   ╱  ───    66⋅√70⋅   ╱  ─── ⎥\n",
       "⎢          ╱    11             ╱    11 ⎥\n",
       "⎢        ╲╱    l             ╲╱    l   ⎥\n",
       "⎢───────────────────, ─────────────────⎥\n",
       "⎢    _____________       _____________ ⎥\n",
       "⎣  ╲╱ -13⋅√5 + 30      ╲╱ -13⋅√5 + 30  ⎦"
      ]
     },
     "execution_count": 41,
     "metadata": {},
     "output_type": "execute_result"
    }
   ],
   "source": [
    "solve(c4,c[3])"
   ]
  },
  {
   "cell_type": "code",
   "execution_count": null,
   "metadata": {
    "collapsed": true
   },
   "outputs": [],
   "source": []
  },
  {
   "cell_type": "code",
   "execution_count": null,
   "metadata": {
    "collapsed": true
   },
   "outputs": [],
   "source": []
  }
 ],
 "metadata": {
  "anaconda-cloud": {},
  "kernelspec": {
   "display_name": "Python 3",
   "language": "python",
   "name": "python3"
  }
 },
 "nbformat": 4,
 "nbformat_minor": 1
}
